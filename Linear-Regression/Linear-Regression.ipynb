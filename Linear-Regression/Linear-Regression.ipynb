{
 "cells": [
  {
   "cell_type": "markdown",
   "metadata": {},
   "source": [
    "# Linear Regression Analysis\n",
    "*Linear regression analysis using Pandas, StatsModels, and Altiar.*\n",
    "\n",
    "**Attribution Notes**:\n",
    "* Much of this analysis was inspired by [Cognitir](http://www.cognitir.com/)'s [Introduction to Data Science for Finance](http://www.cognitir.com/courses/data-science) course, which I attended at the Ohio State University in November 2016. I generated this notebook using notes I took during the couse to practice what I learned and add some other functions useful to me. The course provides a much more detailed presentation of the material, and I highly recommend it. I encourage you to [contact them](http://www.cognitir.com/contact) for more information.\n",
    "* [Chris Albon](http://chrisalbon.com/python/pandas_join_merge_dataframe.html)'s blog is always a great resouce for questions about Pandas. \n",
    "* I always reference [Dan Saber's examples](https://github.com/dsaber/py-viz-blog/blob/master/5_altair_viz.ipynb) for plotting with Altair."
   ]
  },
  {
   "cell_type": "code",
   "execution_count": 2,
   "metadata": {
    "collapsed": true
   },
   "outputs": [],
   "source": [
    "import pandas as pd\n",
    "import numpy as np\n",
    "import statsmodels.api as sm\n",
    "from altair import *"
   ]
  },
  {
   "cell_type": "markdown",
   "metadata": {},
   "source": [
    "## Simple Linear Regression\n",
    "*Linear regression to predict the dependent variable using one independent variable.* \n",
    "\n",
    "See more information on [Wikipedia here](https://en.wikipedia.org/wiki/Simple_linear_regression).\n",
    "\n",
    "### Data\n",
    "I found [this dataset](http://college.cengage.com/mathematics/brase/understandable_statistics/7e/students/datasets/slr/frames/slr02.html), originally from *The Song of Insects* by Dr.G.W. Pierce (Harvard College Press), which gives the number of chirps per second of the striped ground cricket at various temperatures. We start by reading this data into a dataframe."
   ]
  },
  {
   "cell_type": "code",
   "execution_count": 7,
   "metadata": {
    "collapsed": false
   },
   "outputs": [
    {
     "data": {
      "text/html": [
       "<div>\n",
       "<table border=\"1\" class=\"dataframe\">\n",
       "  <thead>\n",
       "    <tr style=\"text-align: right;\">\n",
       "      <th></th>\n",
       "      <th>Temp (Deg F)</th>\n",
       "      <th>Cricket Chirps/Sec</th>\n",
       "    </tr>\n",
       "  </thead>\n",
       "  <tbody>\n",
       "    <tr>\n",
       "      <th>10</th>\n",
       "      <td>79.599998</td>\n",
       "      <td>15.000000</td>\n",
       "    </tr>\n",
       "    <tr>\n",
       "      <th>11</th>\n",
       "      <td>82.599998</td>\n",
       "      <td>17.200001</td>\n",
       "    </tr>\n",
       "    <tr>\n",
       "      <th>12</th>\n",
       "      <td>80.599998</td>\n",
       "      <td>16.000000</td>\n",
       "    </tr>\n",
       "    <tr>\n",
       "      <th>13</th>\n",
       "      <td>83.500000</td>\n",
       "      <td>17.000000</td>\n",
       "    </tr>\n",
       "    <tr>\n",
       "      <th>14</th>\n",
       "      <td>76.300003</td>\n",
       "      <td>14.400000</td>\n",
       "    </tr>\n",
       "  </tbody>\n",
       "</table>\n",
       "</div>"
      ],
      "text/plain": [
       "    Temp (Deg F)  Cricket Chirps/Sec\n",
       "10     79.599998           15.000000\n",
       "11     82.599998           17.200001\n",
       "12     80.599998           16.000000\n",
       "13     83.500000           17.000000\n",
       "14     76.300003           14.400000"
      ]
     },
     "execution_count": 7,
     "metadata": {},
     "output_type": "execute_result"
    }
   ],
   "source": [
    "df = pd.read_csv('data/cricket-chirps.csv')\n",
    "df.tail()"
   ]
  },
  {
   "cell_type": "markdown",
   "metadata": {},
   "source": [
    "Let's plot this to see what the data looks like."
   ]
  },
  {
   "cell_type": "code",
   "execution_count": 5,
   "metadata": {
    "collapsed": false
   },
   "outputs": [
    {
     "data": {
      "text/html": [
       "<div class=\"vega-embed\" id=\"54275e36-ee33-4cc3-9a89-ab7d591d19ed\"></div>\n",
       "\n",
       "<style>\n",
       ".vega-embed svg, .vega-embed canvas {\n",
       "  border: 1px dotted gray;\n",
       "}\n",
       "\n",
       ".vega-embed .vega-actions a {\n",
       "  margin-right: 6px;\n",
       "}\n",
       "</style>\n"
      ]
     },
     "metadata": {
      "jupyter-vega": "#54275e36-ee33-4cc3-9a89-ab7d591d19ed"
     },
     "output_type": "display_data"
    },
    {
     "data": {
      "application/javascript": [
       "var spec = {\"mark\": \"point\", \"encoding\": {\"y\": {\"field\": \"Cricket Chirps/Sec\", \"type\": \"quantitative\"}, \"x\": {\"field\": \"Temp (Deg F)\", \"type\": \"quantitative\"}}, \"config\": {\"mark\": {\"filled\": true}, \"cell\": {\"width\": 500, \"height\": 350}}, \"data\": {\"values\": [{\"Temp (Deg F)\": 88.59999847, \"Cricket Chirps/Sec\": 20.0}, {\"Temp (Deg F)\": 71.59999847, \"Cricket Chirps/Sec\": 16.0}, {\"Temp (Deg F)\": 93.30000305, \"Cricket Chirps/Sec\": 19.79999924}, {\"Temp (Deg F)\": 84.30000305, \"Cricket Chirps/Sec\": 18.39999962}, {\"Temp (Deg F)\": 80.59999847, \"Cricket Chirps/Sec\": 17.10000038}, {\"Temp (Deg F)\": 75.19999695, \"Cricket Chirps/Sec\": 15.5}, {\"Temp (Deg F)\": 69.69999695, \"Cricket Chirps/Sec\": 14.69999981}, {\"Temp (Deg F)\": 82.0, \"Cricket Chirps/Sec\": 17.10000038}, {\"Temp (Deg F)\": 69.40000153, \"Cricket Chirps/Sec\": 15.39999962}, {\"Temp (Deg F)\": 83.30000305, \"Cricket Chirps/Sec\": 16.20000076}, {\"Temp (Deg F)\": 79.59999847, \"Cricket Chirps/Sec\": 15.0}, {\"Temp (Deg F)\": 82.59999847, \"Cricket Chirps/Sec\": 17.20000076}, {\"Temp (Deg F)\": 80.59999847, \"Cricket Chirps/Sec\": 16.0}, {\"Temp (Deg F)\": 83.5, \"Cricket Chirps/Sec\": 17.0}, {\"Temp (Deg F)\": 76.30000305, \"Cricket Chirps/Sec\": 14.39999962}]}};\n",
       "var selector = \"#54275e36-ee33-4cc3-9a89-ab7d591d19ed\";\n",
       "var type = \"vega-lite\";\n",
       "\n",
       "var output_area = this;\n",
       "require(['nbextensions/jupyter-vega/index'], function(vega) {\n",
       "  vega.render(selector, spec, type, output_area);\n",
       "}, function (err) {\n",
       "  if (err.requireType !== 'scripterror') {\n",
       "    throw(err);\n",
       "  }\n",
       "});\n"
      ]
     },
     "metadata": {
      "jupyter-vega": "#54275e36-ee33-4cc3-9a89-ab7d591d19ed"
     },
     "output_type": "display_data"
    },
    {
     "data": {
      "image/png": "[encoded data removed]"
     },
     "metadata": {
      "jupyter-vega": "#54275e36-ee33-4cc3-9a89-ab7d591d19ed"
     },
     "output_type": "display_data"
    }
   ],
   "source": [
    "c = Chart(df).mark_point(filled=True).encode(\n",
    "    x='Temp (Deg F)',\n",
    "    y='Cricket Chirps/Sec'\n",
    ")\n",
    "c"
   ]
  },
  {
   "cell_type": "markdown",
   "metadata": {},
   "source": [
    "Since a linear relationship appears to be present, we can run a simple linear regression so that we can predict how many cricket chirps per second we expect at a given temperature. "
   ]
  },
  {
   "cell_type": "code",
   "execution_count": 6,
   "metadata": {
    "collapsed": false
   },
   "outputs": [
    {
     "name": "stderr",
     "output_type": "stream",
     "text": [
      "/Users/mkudija/anaconda/lib/python3.5/site-packages/scipy/stats/stats.py:1535: UserWarning: kurtosistest only valid for n>=20 ... continuing anyway, n=15\n",
      "  \"anyway, n=%i\" % int(n))\n"
     ]
    },
    {
     "data": {
      "text/html": [
       "<table class=\"simpletable\">\n",
       "<caption>OLS Regression Results</caption>\n",
       "<tr>\n",
       "  <th>Dep. Variable:</th>    <td>Cricket Chirps/Sec</td> <th>  R-squared:         </th> <td>   0.697</td>\n",
       "</tr>\n",
       "<tr>\n",
       "  <th>Model:</th>                    <td>OLS</td>        <th>  Adj. R-squared:    </th> <td>   0.674</td>\n",
       "</tr>\n",
       "<tr>\n",
       "  <th>Method:</th>              <td>Least Squares</td>   <th>  F-statistic:       </th> <td>   29.97</td>\n",
       "</tr>\n",
       "<tr>\n",
       "  <th>Date:</th>              <td>Sun, 27 Nov 2016</td>  <th>  Prob (F-statistic):</th> <td>0.000107</td>\n",
       "</tr>\n",
       "<tr>\n",
       "  <th>Time:</th>                  <td>17:08:20</td>      <th>  Log-Likelihood:    </th> <td> -19.777</td>\n",
       "</tr>\n",
       "<tr>\n",
       "  <th>No. Observations:</th>       <td>    15</td>       <th>  AIC:               </th> <td>   43.55</td>\n",
       "</tr>\n",
       "<tr>\n",
       "  <th>Df Residuals:</th>           <td>    13</td>       <th>  BIC:               </th> <td>   44.97</td>\n",
       "</tr>\n",
       "<tr>\n",
       "  <th>Df Model:</th>               <td>     1</td>       <th>                     </th>     <td> </td>   \n",
       "</tr>\n",
       "<tr>\n",
       "  <th>Covariance Type:</th>       <td>nonrobust</td>     <th>                     </th>     <td> </td>   \n",
       "</tr>\n",
       "</table>\n",
       "<table class=\"simpletable\">\n",
       "<tr>\n",
       "        <td></td>          <th>coef</th>     <th>std err</th>      <th>t</th>      <th>P>|t|</th> <th>[95.0% Conf. Int.]</th> \n",
       "</tr>\n",
       "<tr>\n",
       "  <th>const</th>        <td>   -0.3091</td> <td>    3.109</td> <td>   -0.099</td> <td> 0.922</td> <td>   -7.025     6.407</td>\n",
       "</tr>\n",
       "<tr>\n",
       "  <th>Temp (Deg F)</th> <td>    0.2119</td> <td>    0.039</td> <td>    5.475</td> <td> 0.000</td> <td>    0.128     0.296</td>\n",
       "</tr>\n",
       "</table>\n",
       "<table class=\"simpletable\">\n",
       "<tr>\n",
       "  <th>Omnibus:</th>       <td> 0.525</td> <th>  Durbin-Watson:     </th> <td>   0.960</td>\n",
       "</tr>\n",
       "<tr>\n",
       "  <th>Prob(Omnibus):</th> <td> 0.769</td> <th>  Jarque-Bera (JB):  </th> <td>   0.579</td>\n",
       "</tr>\n",
       "<tr>\n",
       "  <th>Skew:</th>          <td>-0.196</td> <th>  Prob(JB):          </th> <td>   0.749</td>\n",
       "</tr>\n",
       "<tr>\n",
       "  <th>Kurtosis:</th>      <td> 2.121</td> <th>  Cond. No.          </th> <td>    995.</td>\n",
       "</tr>\n",
       "</table>"
      ],
      "text/plain": [
       "<class 'statsmodels.iolib.summary.Summary'>\n",
       "\"\"\"\n",
       "                            OLS Regression Results                            \n",
       "==============================================================================\n",
       "Dep. Variable:     Cricket Chirps/Sec   R-squared:                       0.697\n",
       "Model:                            OLS   Adj. R-squared:                  0.674\n",
       "Method:                 Least Squares   F-statistic:                     29.97\n",
       "Date:                Sun, 27 Nov 2016   Prob (F-statistic):           0.000107\n",
       "Time:                        17:08:20   Log-Likelihood:                -19.777\n",
       "No. Observations:                  15   AIC:                             43.55\n",
       "Df Residuals:                      13   BIC:                             44.97\n",
       "Df Model:                           1                                         \n",
       "Covariance Type:            nonrobust                                         \n",
       "================================================================================\n",
       "                   coef    std err          t      P>|t|      [95.0% Conf. Int.]\n",
       "--------------------------------------------------------------------------------\n",
       "const           -0.3091      3.109     -0.099      0.922        -7.025     6.407\n",
       "Temp (Deg F)     0.2119      0.039      5.475      0.000         0.128     0.296\n",
       "==============================================================================\n",
       "Omnibus:                        0.525   Durbin-Watson:                   0.960\n",
       "Prob(Omnibus):                  0.769   Jarque-Bera (JB):                0.579\n",
       "Skew:                          -0.196   Prob(JB):                        0.749\n",
       "Kurtosis:                       2.121   Cond. No.                         995.\n",
       "==============================================================================\n",
       "\n",
       "Warnings:\n",
       "[1] Standard Errors assume that the covariance matrix of the errors is correctly specified.\n",
       "\"\"\""
      ]
     },
     "execution_count": 6,
     "metadata": {},
     "output_type": "execute_result"
    }
   ],
   "source": [
    "X = df[['Temp (Deg F)']]\n",
    "Y = df['Cricket Chirps/Sec']\n",
    "\n",
    "X = sm.add_constant(X)\n",
    "model = sm.OLS(Y, X).fit()\n",
    "\n",
    "model.summary()"
   ]
  },
  {
   "cell_type": "code",
   "execution_count": 11,
   "metadata": {
    "collapsed": false
   },
   "outputs": [
    {
     "name": "stdout",
     "output_type": "stream",
     "text": [
      "Help on RegressionResultsWrapper in module statsmodels.regression.linear_model object:\n",
      "\n",
      "class RegressionResultsWrapper(statsmodels.base.wrapper.ResultsWrapper)\n",
      " |  Class which wraps a statsmodels estimation Results class and steps in to\n",
      " |  reattach metadata to results (if available)\n",
      " |  \n",
      " |  Method resolution order:\n",
      " |      RegressionResultsWrapper\n",
      " |      statsmodels.base.wrapper.ResultsWrapper\n",
      " |      builtins.object\n",
      " |  \n",
      " |  Methods defined here:\n",
      " |  \n",
      " |  conf_int(self, alpha=0.05, cols=None)\n",
      " |      conf_int(self, alpha=0.05, cols=None)\n",
      " |      \n",
      " |      Returns the confidence interval of the fitted parameters.\n",
      " |      \n",
      " |      Parameters\n",
      " |      ----------\n",
      " |      alpha : float, optional\n",
      " |          The `alpha` level for the confidence interval.\n",
      " |          ie., The default `alpha` = .05 returns a 95% confidence interval.\n",
      " |      cols : array-like, optional\n",
      " |          `cols` specifies which confidence intervals to return\n",
      " |      \n",
      " |      Notes\n",
      " |      -----\n",
      " |      The confidence interval is based on Student's t-distribution.\n",
      " |  \n",
      " |  cov_params(self, r_matrix=None, column=None, scale=None, cov_p=None, other=None)\n",
      " |      cov_params(self, r_matrix=None, column=None, scale=None, cov_p=None, other=None)\n",
      " |      \n",
      " |      Returns the variance/covariance matrix.\n",
      " |      \n",
      " |      The variance/covariance matrix can be of a linear contrast\n",
      " |      of the estimates of params or all params multiplied by scale which\n",
      " |      will usually be an estimate of sigma^2.  Scale is assumed to be\n",
      " |      a scalar.\n",
      " |      \n",
      " |      Parameters\n",
      " |      ----------\n",
      " |      r_matrix : array-like\n",
      " |          Can be 1d, or 2d.  Can be used alone or with other.\n",
      " |      column :  array-like, optional\n",
      " |          Must be used on its own.  Can be 0d or 1d see below.\n",
      " |      scale : float, optional\n",
      " |          Can be specified or not.  Default is None, which means that\n",
      " |          the scale argument is taken from the model.\n",
      " |      other : array-like, optional\n",
      " |          Can be used when r_matrix is specified.\n",
      " |      \n",
      " |      Returns\n",
      " |      -------\n",
      " |      cov : ndarray\n",
      " |          covariance matrix of the parameter estimates or of linear\n",
      " |          combination of parameter estimates. See Notes.\n",
      " |      \n",
      " |      Notes\n",
      " |      -----\n",
      " |      (The below are assumed to be in matrix notation.)\n",
      " |      \n",
      " |      If no argument is specified returns the covariance matrix of a model\n",
      " |      ``(scale)*(X.T X)^(-1)``\n",
      " |      \n",
      " |      If contrast is specified it pre and post-multiplies as follows\n",
      " |      ``(scale) * r_matrix (X.T X)^(-1) r_matrix.T``\n",
      " |      \n",
      " |      If contrast and other are specified returns\n",
      " |      ``(scale) * r_matrix (X.T X)^(-1) other.T``\n",
      " |      \n",
      " |      If column is specified returns\n",
      " |      ``(scale) * (X.T X)^(-1)[column,column]`` if column is 0d\n",
      " |      \n",
      " |      OR\n",
      " |      \n",
      " |      ``(scale) * (X.T X)^(-1)[column][:,column]`` if column is 1d\n",
      " |  \n",
      " |  ----------------------------------------------------------------------\n",
      " |  Methods inherited from statsmodels.base.wrapper.ResultsWrapper:\n",
      " |  \n",
      " |  __dir__(self)\n",
      " |      __dir__() -> list\n",
      " |      default dir() implementation\n",
      " |  \n",
      " |  __getattribute__(self, attr)\n",
      " |      Return getattr(self, name).\n",
      " |  \n",
      " |  __getstate__(self)\n",
      " |  \n",
      " |  __init__(self, results)\n",
      " |      Initialize self.  See help(type(self)) for accurate signature.\n",
      " |  \n",
      " |  __setstate__(self, dict_)\n",
      " |  \n",
      " |  save(self, fname, remove_data=False)\n",
      " |      save a pickle of this instance\n",
      " |      \n",
      " |      Parameters\n",
      " |      ----------\n",
      " |      fname : string or filehandle\n",
      " |          fname can be a string to a file path or filename, or a filehandle.\n",
      " |      remove_data : bool\n",
      " |          If False (default), then the instance is pickled without changes.\n",
      " |          If True, then all arrays with length nobs are set to None before\n",
      " |          pickling. See the remove_data method.\n",
      " |          In some cases not all arrays will be set to None.\n",
      " |  \n",
      " |  ----------------------------------------------------------------------\n",
      " |  Class methods inherited from statsmodels.base.wrapper.ResultsWrapper:\n",
      " |  \n",
      " |  load(fname) from builtins.type\n",
      " |  \n",
      " |  ----------------------------------------------------------------------\n",
      " |  Data descriptors inherited from statsmodels.base.wrapper.ResultsWrapper:\n",
      " |  \n",
      " |  __dict__\n",
      " |      dictionary for instance variables (if defined)\n",
      " |  \n",
      " |  __weakref__\n",
      " |      list of weak references to the object (if defined)\n",
      "\n"
     ]
    }
   ],
   "source": [
    "help(model)"
   ]
  },
  {
   "cell_type": "code",
   "execution_count": null,
   "metadata": {
    "collapsed": true
   },
   "outputs": [],
   "source": []
  },
  {
   "cell_type": "code",
   "execution_count": null,
   "metadata": {
    "collapsed": true
   },
   "outputs": [],
   "source": []
  },
  {
   "cell_type": "code",
   "execution_count": null,
   "metadata": {
    "collapsed": true
   },
   "outputs": [],
   "source": []
  },
  {
   "cell_type": "code",
   "execution_count": null,
   "metadata": {
    "collapsed": true
   },
   "outputs": [],
   "source": []
  },
  {
   "cell_type": "code",
   "execution_count": null,
   "metadata": {
    "collapsed": true
   },
   "outputs": [],
   "source": []
  },
  {
   "cell_type": "code",
   "execution_count": null,
   "metadata": {
    "collapsed": true
   },
   "outputs": [],
   "source": []
  },
  {
   "cell_type": "code",
   "execution_count": null,
   "metadata": {
    "collapsed": true
   },
   "outputs": [],
   "source": []
  },
  {
   "cell_type": "code",
   "execution_count": null,
   "metadata": {
    "collapsed": true
   },
   "outputs": [],
   "source": []
  },
  {
   "cell_type": "code",
   "execution_count": null,
   "metadata": {
    "collapsed": true
   },
   "outputs": [],
   "source": []
  },
  {
   "cell_type": "markdown",
   "metadata": {},
   "source": [
    "Use this for multiple linear regression: [Using Technology: U.S. Economy Case Study](http://college.cengage.com/mathematics/brase/understandable_statistics/7e/students/datasets/mlr/frames/frame.html), originally from *Statistical Abstract of the United States*, 103rd and 109th ediiton.\n",
    "        \n",
    "        "
   ]
  },
  {
   "cell_type": "code",
   "execution_count": 12,
   "metadata": {
    "collapsed": false
   },
   "outputs": [
    {
     "data": {
      "text/html": [
       "<div>\n",
       "<table border=\"1\" class=\"dataframe\">\n",
       "  <thead>\n",
       "    <tr style=\"text-align: right;\">\n",
       "      <th></th>\n",
       "      <th>Faculty</th>\n",
       "      <th>Salary</th>\n",
       "      <th>Gender</th>\n",
       "      <th>Rank</th>\n",
       "      <th>Dept</th>\n",
       "      <th>Years</th>\n",
       "      <th>Merit</th>\n",
       "    </tr>\n",
       "  </thead>\n",
       "  <tbody>\n",
       "    <tr>\n",
       "      <th>26</th>\n",
       "      <td>27.0</td>\n",
       "      <td>59.0</td>\n",
       "      <td>0.0</td>\n",
       "      <td>3.0</td>\n",
       "      <td>3.0</td>\n",
       "      <td>0.0</td>\n",
       "      <td>2.88</td>\n",
       "    </tr>\n",
       "    <tr>\n",
       "      <th>27</th>\n",
       "      <td>28.0</td>\n",
       "      <td>65.0</td>\n",
       "      <td>1.0</td>\n",
       "      <td>2.0</td>\n",
       "      <td>3.0</td>\n",
       "      <td>5.0</td>\n",
       "      <td>3.37</td>\n",
       "    </tr>\n",
       "    <tr>\n",
       "      <th>28</th>\n",
       "      <td>29.0</td>\n",
       "      <td>49.0</td>\n",
       "      <td>0.0</td>\n",
       "      <td>1.0</td>\n",
       "      <td>3.0</td>\n",
       "      <td>0.0</td>\n",
       "      <td>2.84</td>\n",
       "    </tr>\n",
       "    <tr>\n",
       "      <th>29</th>\n",
       "      <td>30.0</td>\n",
       "      <td>37.0</td>\n",
       "      <td>1.0</td>\n",
       "      <td>1.0</td>\n",
       "      <td>1.0</td>\n",
       "      <td>9.0</td>\n",
       "      <td>5.12</td>\n",
       "    </tr>\n",
       "    <tr>\n",
       "      <th>30</th>\n",
       "      <td>NaN</td>\n",
       "      <td>NaN</td>\n",
       "      <td>NaN</td>\n",
       "      <td>NaN</td>\n",
       "      <td>NaN</td>\n",
       "      <td>NaN</td>\n",
       "      <td>NaN</td>\n",
       "    </tr>\n",
       "  </tbody>\n",
       "</table>\n",
       "</div>"
      ],
      "text/plain": [
       "    Faculty  Salary  Gender  Rank  Dept  Years  Merit\n",
       "26     27.0    59.0     0.0   3.0   3.0    0.0   2.88\n",
       "27     28.0    65.0     1.0   2.0   3.0    5.0   3.37\n",
       "28     29.0    49.0     0.0   1.0   3.0    0.0   2.84\n",
       "29     30.0    37.0     1.0   1.0   1.0    9.0   5.12\n",
       "30      NaN     NaN     NaN   NaN   NaN    NaN    NaN"
      ]
     },
     "execution_count": 12,
     "metadata": {},
     "output_type": "execute_result"
    }
   ],
   "source": [
    "df = pd.read_csv('data/faculty-data.csv')\n",
    "df.tail()"
   ]
  },
  {
   "cell_type": "code",
   "execution_count": null,
   "metadata": {
    "collapsed": true
   },
   "outputs": [],
   "source": []
  },
  {
   "cell_type": "markdown",
   "metadata": {},
   "source": [
    "## Multiple Linear Regression\n",
    "*Linear regression to predict the dependent variable using multiple (including categorical) independent variables.*\n",
    "\n",
    "See [this post from DataRobot](https://www.datarobot.com/blog/multiple-regression-using-statsmodels/) and [Scipy Lecture Notes](http://www.scipy-lectures.org/packages/statistics/auto_examples/plot_regression_3d.html) for examples."
   ]
  },
  {
   "cell_type": "code",
   "execution_count": null,
   "metadata": {
    "collapsed": false
   },
   "outputs": [],
   "source": [
    "df_adv = pd.read_csv('data/Advertising.csv', parse_dates=True, index_col=0)\n",
    "df_adv.head()"
   ]
  },
  {
   "cell_type": "code",
   "execution_count": null,
   "metadata": {
    "collapsed": false
   },
   "outputs": [],
   "source": [
    "X = df_adv[['Facebook', 'Twitter','LinkedIn']]\n",
    "Y = df_adv['Sales']\n",
    "\n",
    "X = sm.add_constant(X)\n",
    "model = sm.OLS(Y, X).fit()\n",
    "\n",
    "model.summary()"
   ]
  },
  {
   "cell_type": "code",
   "execution_count": null,
   "metadata": {
    "collapsed": false
   },
   "outputs": [],
   "source": [
    "df_reg = pd.DataFrame({ 'X' : range(1, 300 + 1 ,1)})\n",
    "df_reg[['Facebook-reg']] = df_reg[['X']] * model.params[1]\n",
    "df_reg[['Twitter-reg']] = df_reg[['X']] * model.params[2]\n",
    "df_reg[['LinkedIn-reg']] = df_reg[['X']] * model.params[3]\n",
    "\n",
    "df_reg.head()"
   ]
  },
  {
   "cell_type": "code",
   "execution_count": null,
   "metadata": {
    "collapsed": false
   },
   "outputs": [],
   "source": [
    "Chart(df_reg).mark_circle().encode(\n",
    "    x='X',\n",
    "    y='Facebook-reg',\n",
    ")"
   ]
  },
  {
   "cell_type": "code",
   "execution_count": null,
   "metadata": {
    "collapsed": false
   },
   "outputs": [],
   "source": [
    "Chart(df_reg).mark_circle().encode(\n",
    "    x='X',\n",
    "    y='Twitter-reg',\n",
    ")"
   ]
  },
  {
   "cell_type": "code",
   "execution_count": null,
   "metadata": {
    "collapsed": false
   },
   "outputs": [],
   "source": [
    "Chart(df_reg).mark_circle().encode(\n",
    "    x='X',\n",
    "    y='LinkedIn-reg',\n",
    ")"
   ]
  },
  {
   "cell_type": "markdown",
   "metadata": {},
   "source": [
    "# Credit"
   ]
  },
  {
   "cell_type": "code",
   "execution_count": null,
   "metadata": {
    "collapsed": false
   },
   "outputs": [],
   "source": [
    "import statsmodels.formula.api as smf\n",
    "\n",
    "df_crd = pd.read_csv('data/Credit.csv', parse_dates=True, index_col=0)\n",
    "df_crd.head()"
   ]
  },
  {
   "cell_type": "code",
   "execution_count": null,
   "metadata": {
    "collapsed": false
   },
   "outputs": [],
   "source": [
    "model = smf.ols(formula='Rating ~ Income + Limit + Cards + Age + Education + C(Gender) + C(Student) + '\n",
    "                'C(Married) + C(Ethnicity) + Balance', data=df_crd).fit()\n",
    "\n",
    "model.summary()"
   ]
  },
  {
   "cell_type": "markdown",
   "metadata": {},
   "source": [
    "From the results, we see that the following attributes contribute to a higher credit rating:\n",
    "- being female\n",
    "- not being a student\n",
    "- being married\n",
    "- not being Asian or Caucasian\n",
    "- having a higher income\n",
    "- having a higher credit limit\n",
    "- having more cards\n",
    "- being older\n",
    "- not having more education\n",
    "- having a higher balance"
   ]
  },
  {
   "cell_type": "code",
   "execution_count": null,
   "metadata": {
    "collapsed": true
   },
   "outputs": [],
   "source": []
  }
 ],
 "metadata": {
  "kernelspec": {
   "display_name": "Python [Root]",
   "language": "python",
   "name": "Python [Root]"
  }
 },
 "nbformat": 4,
 "nbformat_minor": 0
}
