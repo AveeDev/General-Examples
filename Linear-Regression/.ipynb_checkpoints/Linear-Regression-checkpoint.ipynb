{
 "cells": [
  {
   "cell_type": "markdown",
   "metadata": {},
   "source": [
    "# Linear Regression Analysis\n",
    "*Linear regression analysis using Pandas, StatsModels, and Altiar.*\n",
    "\n",
    "**Attribution Notes**:\n",
    "* Much of this analysis was inspired by [Cognitir](http://www.cognitir.com/)'s [Introduction to Data Science for Finance](http://www.cognitir.com/courses/data-science) course, which I attended at the Ohio State University in November 2016. I generated this notebook using notes I took during the couse to practice what I learned and add some other functions useful to me. The course provides a much more detailed presentation of the material, and I highly recommend it. I encourage you to [contact them](http://www.cognitir.com/contact) for more information.\n",
    "* [Chris Albon](http://chrisalbon.com/python/pandas_join_merge_dataframe.html)'s blog is always a great resouce for questions about Pandas. \n",
    "* I always reference [Dan Saber's examples](https://github.com/dsaber/py-viz-blog/blob/master/5_altair_viz.ipynb) for plotting with Altair."
   ]
  },
  {
   "cell_type": "code",
   "execution_count": 14,
   "metadata": {
    "collapsed": true
   },
   "outputs": [],
   "source": [
    "%matplotlib inline\n",
    "from altair import *\n",
    "import numpy as np\n",
    "import pandas as pd\n",
    "import statsmodels.api as sm\n",
    "import statsmodels.formula.api as smf\n",
    "import matplotlib.pyplot as plt"
   ]
  },
  {
   "cell_type": "markdown",
   "metadata": {},
   "source": [
    "## Simple Linear Regression\n",
    "*Linear regression to predict the dependent variable using one independent variable.* \n",
    "\n",
    "See more information on [Wikipedia here](https://en.wikipedia.org/wiki/Simple_linear_regression).\n",
    "\n",
    "### Data\n",
    "I found [this dataset](http://college.cengage.com/mathematics/brase/understandable_statistics/7e/students/datasets/slr/frames/slr02.html), originally from *The Song of Insects* by Dr.G.W. Pierce (Harvard College Press), which gives the number of chirps per second of the striped ground cricket at various temperatures. We start by reading this data into a dataframe."
   ]
  },
  {
   "cell_type": "code",
   "execution_count": 2,
   "metadata": {
    "collapsed": false
   },
   "outputs": [
    {
     "data": {
      "text/html": [
       "<div>\n",
       "<table border=\"1\" class=\"dataframe\">\n",
       "  <thead>\n",
       "    <tr style=\"text-align: right;\">\n",
       "      <th></th>\n",
       "      <th>Temp (Deg F)</th>\n",
       "      <th>Cricket Chirps/Sec</th>\n",
       "    </tr>\n",
       "  </thead>\n",
       "  <tbody>\n",
       "    <tr>\n",
       "      <th>10</th>\n",
       "      <td>79.599998</td>\n",
       "      <td>15.000000</td>\n",
       "    </tr>\n",
       "    <tr>\n",
       "      <th>11</th>\n",
       "      <td>82.599998</td>\n",
       "      <td>17.200001</td>\n",
       "    </tr>\n",
       "    <tr>\n",
       "      <th>12</th>\n",
       "      <td>80.599998</td>\n",
       "      <td>16.000000</td>\n",
       "    </tr>\n",
       "    <tr>\n",
       "      <th>13</th>\n",
       "      <td>83.500000</td>\n",
       "      <td>17.000000</td>\n",
       "    </tr>\n",
       "    <tr>\n",
       "      <th>14</th>\n",
       "      <td>76.300003</td>\n",
       "      <td>14.400000</td>\n",
       "    </tr>\n",
       "  </tbody>\n",
       "</table>\n",
       "</div>"
      ],
      "text/plain": [
       "    Temp (Deg F)  Cricket Chirps/Sec\n",
       "10     79.599998           15.000000\n",
       "11     82.599998           17.200001\n",
       "12     80.599998           16.000000\n",
       "13     83.500000           17.000000\n",
       "14     76.300003           14.400000"
      ]
     },
     "execution_count": 2,
     "metadata": {},
     "output_type": "execute_result"
    }
   ],
   "source": [
    "df = pd.read_csv('data/cricket-chirps.csv')\n",
    "df.tail()"
   ]
  },
  {
   "cell_type": "markdown",
   "metadata": {},
   "source": [
    "Let's plot this to see what the data looks like."
   ]
  },
  {
   "cell_type": "code",
   "execution_count": 5,
   "metadata": {
    "collapsed": false
   },
   "outputs": [
    {
     "data": {
      "text/html": [
       "<div class=\"vega-embed\" id=\"bdc54a0d-2b76-4b58-bd9f-bce1993b8a98\"></div>\n",
       "\n",
       "<style>\n",
       ".vega-embed svg, .vega-embed canvas {\n",
       "  border: 1px dotted gray;\n",
       "}\n",
       "\n",
       ".vega-embed .vega-actions a {\n",
       "  margin-right: 6px;\n",
       "}\n",
       "</style>\n"
      ]
     },
     "metadata": {
      "jupyter-vega": "#bdc54a0d-2b76-4b58-bd9f-bce1993b8a98"
     },
     "output_type": "display_data"
    },
    {
     "data": {
      "application/javascript": [
       "var spec = {\"mark\": \"point\", \"encoding\": {\"y\": {\"field\": \"Cricket Chirps/Sec\", \"type\": \"quantitative\"}, \"x\": {\"field\": \"Temp (Deg F)\", \"type\": \"quantitative\"}}, \"config\": {\"cell\": {\"height\": 350, \"width\": 500}, \"mark\": {\"filled\": true}}, \"data\": {\"values\": [{\"Temp (Deg F)\": 88.59999847, \"Cricket Chirps/Sec\": 20.0}, {\"Temp (Deg F)\": 71.59999847, \"Cricket Chirps/Sec\": 16.0}, {\"Temp (Deg F)\": 93.30000305, \"Cricket Chirps/Sec\": 19.79999924}, {\"Temp (Deg F)\": 84.30000305, \"Cricket Chirps/Sec\": 18.39999962}, {\"Temp (Deg F)\": 80.59999847, \"Cricket Chirps/Sec\": 17.10000038}, {\"Temp (Deg F)\": 75.19999695, \"Cricket Chirps/Sec\": 15.5}, {\"Temp (Deg F)\": 69.69999695, \"Cricket Chirps/Sec\": 14.69999981}, {\"Temp (Deg F)\": 82.0, \"Cricket Chirps/Sec\": 17.10000038}, {\"Temp (Deg F)\": 69.40000153, \"Cricket Chirps/Sec\": 15.39999962}, {\"Temp (Deg F)\": 83.30000305, \"Cricket Chirps/Sec\": 16.20000076}, {\"Temp (Deg F)\": 79.59999847, \"Cricket Chirps/Sec\": 15.0}, {\"Temp (Deg F)\": 82.59999847, \"Cricket Chirps/Sec\": 17.20000076}, {\"Temp (Deg F)\": 80.59999847, \"Cricket Chirps/Sec\": 16.0}, {\"Temp (Deg F)\": 83.5, \"Cricket Chirps/Sec\": 17.0}, {\"Temp (Deg F)\": 76.30000305, \"Cricket Chirps/Sec\": 14.39999962}]}};\n",
       "var selector = \"#bdc54a0d-2b76-4b58-bd9f-bce1993b8a98\";\n",
       "var type = \"vega-lite\";\n",
       "\n",
       "var output_area = this;\n",
       "require(['nbextensions/jupyter-vega/index'], function(vega) {\n",
       "  vega.render(selector, spec, type, output_area);\n",
       "}, function (err) {\n",
       "  if (err.requireType !== 'scripterror') {\n",
       "    throw(err);\n",
       "  }\n",
       "});\n"
      ]
     },
     "metadata": {
      "jupyter-vega": "#bdc54a0d-2b76-4b58-bd9f-bce1993b8a98"
     },
     "output_type": "display_data"
    },
    {
     "data": {
      "image/png": "[encoded data removed]"
     },
     "metadata": {
      "jupyter-vega": "#bdc54a0d-2b76-4b58-bd9f-bce1993b8a98"
     },
     "output_type": "display_data"
    }
   ],
   "source": [
    "c = Chart(df).mark_point(filled=True).encode(\n",
    "    x='Temp (Deg F)',\n",
    "    y='Cricket Chirps/Sec'\n",
    ")\n",
    "c"
   ]
  },
  {
   "cell_type": "markdown",
   "metadata": {},
   "source": [
    "Since a linear relationship appears to be present, we can run a simple linear regression so that we can predict how many cricket chirps per second we expect at a given temperature. "
   ]
  },
  {
   "cell_type": "code",
   "execution_count": 6,
   "metadata": {
    "collapsed": false
   },
   "outputs": [
    {
     "name": "stderr",
     "output_type": "stream",
     "text": [
      "/Users/mkudija/anaconda/lib/python3.5/site-packages/scipy/stats/stats.py:1535: UserWarning: kurtosistest only valid for n>=20 ... continuing anyway, n=15\n",
      "  \"anyway, n=%i\" % int(n))\n"
     ]
    },
    {
     "data": {
      "text/html": [
       "<table class=\"simpletable\">\n",
       "<caption>OLS Regression Results</caption>\n",
       "<tr>\n",
       "  <th>Dep. Variable:</th>    <td>Cricket Chirps/Sec</td> <th>  R-squared:         </th> <td>   0.697</td>\n",
       "</tr>\n",
       "<tr>\n",
       "  <th>Model:</th>                    <td>OLS</td>        <th>  Adj. R-squared:    </th> <td>   0.674</td>\n",
       "</tr>\n",
       "<tr>\n",
       "  <th>Method:</th>              <td>Least Squares</td>   <th>  F-statistic:       </th> <td>   29.97</td>\n",
       "</tr>\n",
       "<tr>\n",
       "  <th>Date:</th>              <td>Mon, 28 Nov 2016</td>  <th>  Prob (F-statistic):</th> <td>0.000107</td>\n",
       "</tr>\n",
       "<tr>\n",
       "  <th>Time:</th>                  <td>19:30:00</td>      <th>  Log-Likelihood:    </th> <td> -19.777</td>\n",
       "</tr>\n",
       "<tr>\n",
       "  <th>No. Observations:</th>       <td>    15</td>       <th>  AIC:               </th> <td>   43.55</td>\n",
       "</tr>\n",
       "<tr>\n",
       "  <th>Df Residuals:</th>           <td>    13</td>       <th>  BIC:               </th> <td>   44.97</td>\n",
       "</tr>\n",
       "<tr>\n",
       "  <th>Df Model:</th>               <td>     1</td>       <th>                     </th>     <td> </td>   \n",
       "</tr>\n",
       "<tr>\n",
       "  <th>Covariance Type:</th>       <td>nonrobust</td>     <th>                     </th>     <td> </td>   \n",
       "</tr>\n",
       "</table>\n",
       "<table class=\"simpletable\">\n",
       "<tr>\n",
       "        <td></td>          <th>coef</th>     <th>std err</th>      <th>t</th>      <th>P>|t|</th> <th>[95.0% Conf. Int.]</th> \n",
       "</tr>\n",
       "<tr>\n",
       "  <th>const</th>        <td>   -0.3091</td> <td>    3.109</td> <td>   -0.099</td> <td> 0.922</td> <td>   -7.025     6.407</td>\n",
       "</tr>\n",
       "<tr>\n",
       "  <th>Temp (Deg F)</th> <td>    0.2119</td> <td>    0.039</td> <td>    5.475</td> <td> 0.000</td> <td>    0.128     0.296</td>\n",
       "</tr>\n",
       "</table>\n",
       "<table class=\"simpletable\">\n",
       "<tr>\n",
       "  <th>Omnibus:</th>       <td> 0.525</td> <th>  Durbin-Watson:     </th> <td>   0.960</td>\n",
       "</tr>\n",
       "<tr>\n",
       "  <th>Prob(Omnibus):</th> <td> 0.769</td> <th>  Jarque-Bera (JB):  </th> <td>   0.579</td>\n",
       "</tr>\n",
       "<tr>\n",
       "  <th>Skew:</th>          <td>-0.196</td> <th>  Prob(JB):          </th> <td>   0.749</td>\n",
       "</tr>\n",
       "<tr>\n",
       "  <th>Kurtosis:</th>      <td> 2.121</td> <th>  Cond. No.          </th> <td>    995.</td>\n",
       "</tr>\n",
       "</table>"
      ],
      "text/plain": [
       "<class 'statsmodels.iolib.summary.Summary'>\n",
       "\"\"\"\n",
       "                            OLS Regression Results                            \n",
       "==============================================================================\n",
       "Dep. Variable:     Cricket Chirps/Sec   R-squared:                       0.697\n",
       "Model:                            OLS   Adj. R-squared:                  0.674\n",
       "Method:                 Least Squares   F-statistic:                     29.97\n",
       "Date:                Mon, 28 Nov 2016   Prob (F-statistic):           0.000107\n",
       "Time:                        19:30:00   Log-Likelihood:                -19.777\n",
       "No. Observations:                  15   AIC:                             43.55\n",
       "Df Residuals:                      13   BIC:                             44.97\n",
       "Df Model:                           1                                         \n",
       "Covariance Type:            nonrobust                                         \n",
       "================================================================================\n",
       "                   coef    std err          t      P>|t|      [95.0% Conf. Int.]\n",
       "--------------------------------------------------------------------------------\n",
       "const           -0.3091      3.109     -0.099      0.922        -7.025     6.407\n",
       "Temp (Deg F)     0.2119      0.039      5.475      0.000         0.128     0.296\n",
       "==============================================================================\n",
       "Omnibus:                        0.525   Durbin-Watson:                   0.960\n",
       "Prob(Omnibus):                  0.769   Jarque-Bera (JB):                0.579\n",
       "Skew:                          -0.196   Prob(JB):                        0.749\n",
       "Kurtosis:                       2.121   Cond. No.                         995.\n",
       "==============================================================================\n",
       "\n",
       "Warnings:\n",
       "[1] Standard Errors assume that the covariance matrix of the errors is correctly specified.\n",
       "\"\"\""
      ]
     },
     "execution_count": 6,
     "metadata": {},
     "output_type": "execute_result"
    }
   ],
   "source": [
    "X = df[['Temp (Deg F)']]\n",
    "Y = df['Cricket Chirps/Sec']\n",
    "\n",
    "X = sm.add_constant(X)\n",
    "model = sm.OLS(Y, X).fit()\n",
    "\n",
    "model.summary()"
   ]
  },
  {
   "cell_type": "markdown",
   "metadata": {},
   "source": [
    "Returning to the equation for a simple linear regression, our results are of the form $y   = \\alpha + \\beta x$, where:\n",
    "* $y$ is the predicted chirps per second with a given temperature\n",
    "* $x$ is the given temperature\n",
    "* $\\alpha$ and $\\beta$ are the coefficients from the simple linear regression, given by `model.params[0]` and `model.params[1]` in this example\n",
    "\n",
    "Given a temperature and the results of the regression, we can then predict the number of chirps per second at a given temperature:"
   ]
  },
  {
   "cell_type": "code",
   "execution_count": 7,
   "metadata": {
    "collapsed": false
   },
   "outputs": [
    {
     "name": "stdout",
     "output_type": "stream",
     "text": [
      "The model predicts that there will be 13 chirps per second at a temperature of 65 degrees.\n"
     ]
    }
   ],
   "source": [
    "# Pick a temperature\n",
    "temp = 65\n",
    "\n",
    "# Predicted chirps at that temperature\n",
    "chirps = model.params[0] + model.params[1]*temp\n",
    "print('The model predicts that there will be %d chirps per second at a temperature of %d degrees.' %(chirps, temp))"
   ]
  },
  {
   "cell_type": "markdown",
   "metadata": {},
   "source": [
    "We can also plot the linear regression with our data:"
   ]
  },
  {
   "cell_type": "code",
   "execution_count": 10,
   "metadata": {
    "collapsed": false
   },
   "outputs": [
    {
     "data": {
      "image/png": "[encoded data removed]",
      "text/plain": [
       "<matplotlib.figure.Figure at 0x1146a1160>"
      ]
     },
     "metadata": {},
     "output_type": "display_data"
    }
   ],
   "source": [
    "# Build arrays for linear regression line\n",
    "temps = [0, 100]\n",
    "chirps = [0, 0]\n",
    "for item in range(0,len(temps)):\n",
    "    chirps[item] = model.params[0] + model.params[1]*temps[item]\n",
    "\n",
    "# Plot figure   \n",
    "fig = plt.figure(figsize=[7,5])\n",
    "ax1 = plt.subplot(111)\n",
    "plt.plot(temps,chirps, linewidth=2, linestyle='--', color='#0745AB', label='Linear Regression')\n",
    "plt.plot(df[['Temp (Deg F)']], df[['Cricket Chirps/Sec']], linewidth=0, marker='o', markeredgecolor='k', markerfacecolor='#FE5000', label='Observed Data')\n",
    "plt.ylabel('Chirps/Sec')\n",
    "plt.xlabel('Temperature (°F)')\n",
    "#ax1.set_title('Title', fontsize=18)\n",
    "ax1.spines[\"top\"].set_visible(False)  \n",
    "ax1.spines[\"right\"].set_visible(False)  \n",
    "ax1.get_xaxis().tick_bottom()\n",
    "ax1.get_yaxis().tick_left()\n",
    "plt.legend(loc=4, ncol=1, shadow=True, fancybox=True, fontsize=9)\n",
    "plt.ylim((0,25))\n",
    "plt.savefig('simple-linear-regression.png', dpi=1000)\n",
    "plt.show()"
   ]
  },
  {
   "cell_type": "markdown",
   "metadata": {},
   "source": [
    "## Multiple Linear Regression\n",
    "*Linear regression to predict the dependent variable using multiple (including categorical) independent variables.*\n",
    "\n",
    "See [this post from DataRobot](https://www.datarobot.com/blog/multiple-regression-using-statsmodels/) and [Scipy Lecture Notes](http://www.scipy-lectures.org/packages/statistics/auto_examples/plot_regression_3d.html) for examples.\n",
    "\n",
    "### Data\n",
    "For the multiple linear regression we use a faculty sample dataset from [*Multivariate Statistics: Concepts, Models, and Applications* by \n",
    "David W. Stockburger](http://www.psychstat.missouristate.edu/multibook/mlt08m.html). The variables in this dataset include:\n",
    "* Salary\n",
    "* Gender (0=Male, 1=Female)\n",
    "* Rank (1=Assistant, 2=Associate, 3=Full)\n",
    "* Dept Department (1=Family Studies, 2=Biology, 3=Business)\n",
    "* Years since making Rank\n",
    "* Average Merit Ranking\n",
    "\n",
    "Since StatsModels can easily handle categorical variables, we use the plain categorical variables in `faculty-data-categorical.csv`. "
   ]
  },
  {
   "cell_type": "code",
   "execution_count": 19,
   "metadata": {
    "collapsed": false
   },
   "outputs": [
    {
     "data": {
      "text/html": [
       "<div>\n",
       "<table border=\"1\" class=\"dataframe\">\n",
       "  <thead>\n",
       "    <tr style=\"text-align: right;\">\n",
       "      <th></th>\n",
       "      <th>Salary</th>\n",
       "      <th>Gender</th>\n",
       "      <th>Rank</th>\n",
       "      <th>Dept</th>\n",
       "      <th>Years</th>\n",
       "      <th>Merit</th>\n",
       "    </tr>\n",
       "    <tr>\n",
       "      <th>Faculty</th>\n",
       "      <th></th>\n",
       "      <th></th>\n",
       "      <th></th>\n",
       "      <th></th>\n",
       "      <th></th>\n",
       "      <th></th>\n",
       "    </tr>\n",
       "  </thead>\n",
       "  <tbody>\n",
       "    <tr>\n",
       "      <th>26</th>\n",
       "      <td>51</td>\n",
       "      <td>Male</td>\n",
       "      <td>Assistant</td>\n",
       "      <td>Business</td>\n",
       "      <td>8</td>\n",
       "      <td>3.96</td>\n",
       "    </tr>\n",
       "    <tr>\n",
       "      <th>27</th>\n",
       "      <td>59</td>\n",
       "      <td>Male</td>\n",
       "      <td>Full</td>\n",
       "      <td>Business</td>\n",
       "      <td>0</td>\n",
       "      <td>2.88</td>\n",
       "    </tr>\n",
       "    <tr>\n",
       "      <th>28</th>\n",
       "      <td>65</td>\n",
       "      <td>Female</td>\n",
       "      <td>Associate</td>\n",
       "      <td>Business</td>\n",
       "      <td>5</td>\n",
       "      <td>3.37</td>\n",
       "    </tr>\n",
       "    <tr>\n",
       "      <th>29</th>\n",
       "      <td>49</td>\n",
       "      <td>Male</td>\n",
       "      <td>Assistant</td>\n",
       "      <td>Business</td>\n",
       "      <td>0</td>\n",
       "      <td>2.84</td>\n",
       "    </tr>\n",
       "    <tr>\n",
       "      <th>30</th>\n",
       "      <td>37</td>\n",
       "      <td>Female</td>\n",
       "      <td>Assistant</td>\n",
       "      <td>Family Studies</td>\n",
       "      <td>9</td>\n",
       "      <td>5.12</td>\n",
       "    </tr>\n",
       "  </tbody>\n",
       "</table>\n",
       "</div>"
      ],
      "text/plain": [
       "         Salary  Gender       Rank            Dept  Years  Merit\n",
       "Faculty                                                         \n",
       "26           51    Male  Assistant        Business      8   3.96\n",
       "27           59    Male       Full        Business      0   2.88\n",
       "28           65  Female  Associate        Business      5   3.37\n",
       "29           49    Male  Assistant        Business      0   2.84\n",
       "30           37  Female  Assistant  Family Studies      9   5.12"
      ]
     },
     "execution_count": 19,
     "metadata": {},
     "output_type": "execute_result"
    }
   ],
   "source": [
    "df = pd.read_csv('data/faculty-data-categorical.csv', index_col='Faculty')\n",
    "df.tail()"
   ]
  },
  {
   "cell_type": "code",
   "execution_count": 17,
   "metadata": {
    "collapsed": false
   },
   "outputs": [
    {
     "data": {
      "text/html": [
       "<table class=\"simpletable\">\n",
       "<caption>OLS Regression Results</caption>\n",
       "<tr>\n",
       "  <th>Dep. Variable:</th>         <td>Salary</td>      <th>  R-squared:         </th> <td>   0.909</td>\n",
       "</tr>\n",
       "<tr>\n",
       "  <th>Model:</th>                   <td>OLS</td>       <th>  Adj. R-squared:    </th> <td>   0.880</td>\n",
       "</tr>\n",
       "<tr>\n",
       "  <th>Method:</th>             <td>Least Squares</td>  <th>  F-statistic:       </th> <td>   31.42</td>\n",
       "</tr>\n",
       "<tr>\n",
       "  <th>Date:</th>             <td>Mon, 28 Nov 2016</td> <th>  Prob (F-statistic):</th> <td>4.92e-10</td>\n",
       "</tr>\n",
       "<tr>\n",
       "  <th>Time:</th>                 <td>19:47:31</td>     <th>  Log-Likelihood:    </th> <td> -77.456</td>\n",
       "</tr>\n",
       "<tr>\n",
       "  <th>No. Observations:</th>      <td>    30</td>      <th>  AIC:               </th> <td>   170.9</td>\n",
       "</tr>\n",
       "<tr>\n",
       "  <th>Df Residuals:</th>          <td>    22</td>      <th>  BIC:               </th> <td>   182.1</td>\n",
       "</tr>\n",
       "<tr>\n",
       "  <th>Df Model:</th>              <td>     7</td>      <th>                     </th>     <td> </td>   \n",
       "</tr>\n",
       "<tr>\n",
       "  <th>Covariance Type:</th>      <td>nonrobust</td>    <th>                     </th>     <td> </td>   \n",
       "</tr>\n",
       "</table>\n",
       "<table class=\"simpletable\">\n",
       "<tr>\n",
       "              <td></td>                 <th>coef</th>     <th>std err</th>      <th>t</th>      <th>P>|t|</th> <th>[95.0% Conf. Int.]</th> \n",
       "</tr>\n",
       "<tr>\n",
       "  <th>Intercept</th>                 <td>   35.9378</td> <td>    3.512</td> <td>   10.232</td> <td> 0.000</td> <td>   28.654    43.222</td>\n",
       "</tr>\n",
       "<tr>\n",
       "  <th>C(Gender)[T.Male]</th>         <td>   -7.5434</td> <td>    1.701</td> <td>   -4.434</td> <td> 0.000</td> <td>  -11.071    -4.016</td>\n",
       "</tr>\n",
       "<tr>\n",
       "  <th>C(Rank)[T.Associate]</th>      <td>   10.7624</td> <td>    1.795</td> <td>    5.997</td> <td> 0.000</td> <td>    7.040    14.485</td>\n",
       "</tr>\n",
       "<tr>\n",
       "  <th>C(Rank)[T.Full]</th>           <td>   16.5926</td> <td>    1.825</td> <td>    9.091</td> <td> 0.000</td> <td>   12.807    20.378</td>\n",
       "</tr>\n",
       "<tr>\n",
       "  <th>C(Dept)[T.Business]</th>       <td>    8.1452</td> <td>    1.966</td> <td>    4.142</td> <td> 0.000</td> <td>    4.067    12.223</td>\n",
       "</tr>\n",
       "<tr>\n",
       "  <th>C(Dept)[T.Family Studies]</th> <td>  -10.4046</td> <td>    2.034</td> <td>   -5.116</td> <td> 0.000</td> <td>  -14.622    -6.187</td>\n",
       "</tr>\n",
       "<tr>\n",
       "  <th>Years</th>                     <td>    0.0662</td> <td>    0.313</td> <td>    0.212</td> <td> 0.834</td> <td>   -0.582     0.715</td>\n",
       "</tr>\n",
       "<tr>\n",
       "  <th>Merit</th>                     <td>    2.9435</td> <td>    1.030</td> <td>    2.858</td> <td> 0.009</td> <td>    0.807     5.080</td>\n",
       "</tr>\n",
       "</table>\n",
       "<table class=\"simpletable\">\n",
       "<tr>\n",
       "  <th>Omnibus:</th>       <td> 7.274</td> <th>  Durbin-Watson:     </th> <td>   2.134</td>\n",
       "</tr>\n",
       "<tr>\n",
       "  <th>Prob(Omnibus):</th> <td> 0.026</td> <th>  Jarque-Bera (JB):  </th> <td>   5.680</td>\n",
       "</tr>\n",
       "<tr>\n",
       "  <th>Skew:</th>          <td> 1.012</td> <th>  Prob(JB):          </th> <td>  0.0584</td>\n",
       "</tr>\n",
       "<tr>\n",
       "  <th>Kurtosis:</th>      <td> 3.671</td> <th>  Cond. No.          </th> <td>    31.7</td>\n",
       "</tr>\n",
       "</table>"
      ],
      "text/plain": [
       "<class 'statsmodels.iolib.summary.Summary'>\n",
       "\"\"\"\n",
       "                            OLS Regression Results                            \n",
       "==============================================================================\n",
       "Dep. Variable:                 Salary   R-squared:                       0.909\n",
       "Model:                            OLS   Adj. R-squared:                  0.880\n",
       "Method:                 Least Squares   F-statistic:                     31.42\n",
       "Date:                Mon, 28 Nov 2016   Prob (F-statistic):           4.92e-10\n",
       "Time:                        19:47:31   Log-Likelihood:                -77.456\n",
       "No. Observations:                  30   AIC:                             170.9\n",
       "Df Residuals:                      22   BIC:                             182.1\n",
       "Df Model:                           7                                         \n",
       "Covariance Type:            nonrobust                                         \n",
       "=============================================================================================\n",
       "                                coef    std err          t      P>|t|      [95.0% Conf. Int.]\n",
       "---------------------------------------------------------------------------------------------\n",
       "Intercept                    35.9378      3.512     10.232      0.000        28.654    43.222\n",
       "C(Gender)[T.Male]            -7.5434      1.701     -4.434      0.000       -11.071    -4.016\n",
       "C(Rank)[T.Associate]         10.7624      1.795      5.997      0.000         7.040    14.485\n",
       "C(Rank)[T.Full]              16.5926      1.825      9.091      0.000        12.807    20.378\n",
       "C(Dept)[T.Business]           8.1452      1.966      4.142      0.000         4.067    12.223\n",
       "C(Dept)[T.Family Studies]   -10.4046      2.034     -5.116      0.000       -14.622    -6.187\n",
       "Years                         0.0662      0.313      0.212      0.834        -0.582     0.715\n",
       "Merit                         2.9435      1.030      2.858      0.009         0.807     5.080\n",
       "==============================================================================\n",
       "Omnibus:                        7.274   Durbin-Watson:                   2.134\n",
       "Prob(Omnibus):                  0.026   Jarque-Bera (JB):                5.680\n",
       "Skew:                           1.012   Prob(JB):                       0.0584\n",
       "Kurtosis:                       3.671   Cond. No.                         31.7\n",
       "==============================================================================\n",
       "\n",
       "Warnings:\n",
       "[1] Standard Errors assume that the covariance matrix of the errors is correctly specified.\n",
       "\"\"\""
      ]
     },
     "execution_count": 17,
     "metadata": {},
     "output_type": "execute_result"
    }
   ],
   "source": [
    "model = smf.ols(formula='Salary ~ C(Gender) + C(Rank) + C(Dept) + Years + Merit', data=df).fit()\n",
    "\n",
    "model.summary()"
   ]
  },
  {
   "cell_type": "markdown",
   "metadata": {
    "collapsed": true
   },
   "source": [
    "*insert paragraph explaining the results of the regression (r-squared, p-vals, etc.)*"
   ]
  },
  {
   "cell_type": "markdown",
   "metadata": {},
   "source": [
    "*explain mlr equation*"
   ]
  },
  {
   "cell_type": "code",
   "execution_count": 18,
   "metadata": {
    "collapsed": false
   },
   "outputs": [
    {
     "data": {
      "text/plain": [
       "Intercept                    35.937805\n",
       "C(Gender)[T.Male]            -7.543353\n",
       "C(Rank)[T.Associate]         10.762417\n",
       "C(Rank)[T.Full]              16.592610\n",
       "C(Dept)[T.Business]           8.145155\n",
       "C(Dept)[T.Family Studies]   -10.404583\n",
       "Years                         0.066214\n",
       "Merit                         2.943501\n",
       "dtype: float64"
      ]
     },
     "execution_count": 18,
     "metadata": {},
     "output_type": "execute_result"
    }
   ],
   "source": [
    "model.params"
   ]
  },
  {
   "cell_type": "code",
   "execution_count": 21,
   "metadata": {
    "collapsed": false
   },
   "outputs": [
    {
     "name": "stdout",
     "output_type": "stream",
     "text": [
      "\n",
      "ANOVA results\n",
      "             df       sum_sq     mean_sq          F        PR(>F)\n",
      "C(Gender)   1.0    11.009524   11.009524   0.788769  3.840802e-01\n",
      "C(Rank)     2.0  1357.931811  678.965905  48.643974  8.396286e-09\n",
      "C(Dept)     2.0  1468.750935  734.375468  52.613749  4.132936e-09\n",
      "Years       1.0   118.609066  118.609066   8.497653  8.022766e-03\n",
      "Merit       1.0   113.992356  113.992356   8.166892  9.148623e-03\n",
      "Residual   22.0   307.072975   13.957863        NaN           NaN\n"
     ]
    }
   ],
   "source": [
    "from statsmodels.stats.anova import anova_lm\n",
    "anova_results = anova_lm(model)\n",
    "\n",
    "print('\\nANOVA results')\n",
    "print(anova_results)"
   ]
  },
  {
   "cell_type": "code",
   "execution_count": null,
   "metadata": {
    "collapsed": true
   },
   "outputs": [],
   "source": []
  }
 ],
 "metadata": {
  "kernelspec": {
   "display_name": "Python [Root]",
   "language": "python",
   "name": "Python [Root]"
  },
  "language_info": {
   "codemirror_mode": {
    "name": "ipython",
    "version": 3
   },
   "file_extension": ".py",
   "mimetype": "text/x-python",
   "name": "python",
   "nbconvert_exporter": "python",
   "pygments_lexer": "ipython3",
   "version": "3.5.2"
  }
 },
 "nbformat": 4,
 "nbformat_minor": 0
}
