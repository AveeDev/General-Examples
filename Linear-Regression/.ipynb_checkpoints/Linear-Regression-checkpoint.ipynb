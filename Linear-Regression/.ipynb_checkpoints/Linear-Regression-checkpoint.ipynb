{
 "cells": [
  {
   "cell_type": "markdown",
   "metadata": {},
   "source": [
    "# Linear Regression Analysis\n",
    "*Linear regression analysis using Pandas, StatsModels, and Altiar.*\n",
    "\n",
    "**Attribution Notes**:\n",
    "* Much of this analysis was inspired by [Cognitir](http://www.cognitir.com/)'s [Introduction to Data Science for Finance](http://www.cognitir.com/courses/data-science) course, which I attended at the Ohio State University in November 2016. I generated this notebook using notes I took during the couse to practice what I learned and add some other functions useful to me. The course provides a much more detailed presentation of the material, and I highly recommend it. I encourage you to [contact them](http://www.cognitir.com/contact) for more information.\n",
    "* [Chris Albon](http://chrisalbon.com/python/pandas_join_merge_dataframe.html)'s blog is always a great resouce for questions about Pandas. \n",
    "* I always reference [Dan Saber's examples](https://github.com/dsaber/py-viz-blog/blob/master/5_altair_viz.ipynb) for plotting with Altair."
   ]
  },
  {
   "cell_type": "code",
   "execution_count": 1,
   "metadata": {
    "collapsed": true
   },
   "outputs": [],
   "source": [
    "%matplotlib inline\n",
    "import pandas as pd\n",
    "import numpy as np\n",
    "import statsmodels.api as sm\n",
    "import altair\n",
    "import matplotlib.pyplot as plt"
   ]
  },
  {
   "cell_type": "markdown",
   "metadata": {},
   "source": [
    "## Simple Linear Regression\n",
    "*Linear regression to predict the dependent variable using one independent variable.* \n",
    "\n",
    "See more information on [Wikipedia here](https://en.wikipedia.org/wiki/Simple_linear_regression).\n",
    "\n",
    "### Data\n",
    "I found [this dataset](http://college.cengage.com/mathematics/brase/understandable_statistics/7e/students/datasets/slr/frames/slr02.html), originally from *The Song of Insects* by Dr.G.W. Pierce (Harvard College Press), which gives the number of chirps per second of the striped ground cricket at various temperatures. We start by reading this data into a dataframe."
   ]
  },
  {
   "cell_type": "code",
   "execution_count": 2,
   "metadata": {
    "collapsed": false
   },
   "outputs": [
    {
     "data": {
      "text/html": [
       "<div>\n",
       "<table border=\"1\" class=\"dataframe\">\n",
       "  <thead>\n",
       "    <tr style=\"text-align: right;\">\n",
       "      <th></th>\n",
       "      <th>Temp (Deg F)</th>\n",
       "      <th>Cricket Chirps/Sec</th>\n",
       "    </tr>\n",
       "  </thead>\n",
       "  <tbody>\n",
       "    <tr>\n",
       "      <th>10</th>\n",
       "      <td>79.599998</td>\n",
       "      <td>15.000000</td>\n",
       "    </tr>\n",
       "    <tr>\n",
       "      <th>11</th>\n",
       "      <td>82.599998</td>\n",
       "      <td>17.200001</td>\n",
       "    </tr>\n",
       "    <tr>\n",
       "      <th>12</th>\n",
       "      <td>80.599998</td>\n",
       "      <td>16.000000</td>\n",
       "    </tr>\n",
       "    <tr>\n",
       "      <th>13</th>\n",
       "      <td>83.500000</td>\n",
       "      <td>17.000000</td>\n",
       "    </tr>\n",
       "    <tr>\n",
       "      <th>14</th>\n",
       "      <td>76.300003</td>\n",
       "      <td>14.400000</td>\n",
       "    </tr>\n",
       "  </tbody>\n",
       "</table>\n",
       "</div>"
      ],
      "text/plain": [
       "    Temp (Deg F)  Cricket Chirps/Sec\n",
       "10     79.599998           15.000000\n",
       "11     82.599998           17.200001\n",
       "12     80.599998           16.000000\n",
       "13     83.500000           17.000000\n",
       "14     76.300003           14.400000"
      ]
     },
     "execution_count": 2,
     "metadata": {},
     "output_type": "execute_result"
    }
   ],
   "source": [
    "df = pd.read_csv('data/cricket-chirps.csv')\n",
    "df.tail()"
   ]
  },
  {
   "cell_type": "markdown",
   "metadata": {},
   "source": [
    "Let's plot this to see what the data looks like."
   ]
  },
  {
   "cell_type": "code",
   "execution_count": 3,
   "metadata": {
    "collapsed": false
   },
   "outputs": [
    {
     "ename": "NameError",
     "evalue": "name 'Chart' is not defined",
     "output_type": "error",
     "traceback": [
      "\u001b[1;31m---------------------------------------------------------------------------\u001b[0m",
      "\u001b[1;31mNameError\u001b[0m                                 Traceback (most recent call last)",
      "\u001b[1;32m<ipython-input-3-698498376e9e>\u001b[0m in \u001b[0;36m<module>\u001b[1;34m()\u001b[0m\n\u001b[1;32m----> 1\u001b[1;33m c = Chart(df).mark_point(filled=True).encode(\n\u001b[0m\u001b[0;32m      2\u001b[0m     \u001b[0mx\u001b[0m\u001b[1;33m=\u001b[0m\u001b[1;34m'Temp (Deg F)'\u001b[0m\u001b[1;33m,\u001b[0m\u001b[1;33m\u001b[0m\u001b[0m\n\u001b[0;32m      3\u001b[0m     \u001b[0my\u001b[0m\u001b[1;33m=\u001b[0m\u001b[1;34m'Cricket Chirps/Sec'\u001b[0m\u001b[1;33m\u001b[0m\u001b[0m\n\u001b[0;32m      4\u001b[0m )\n\u001b[0;32m      5\u001b[0m \u001b[0mc\u001b[0m\u001b[1;33m\u001b[0m\u001b[0m\n",
      "\u001b[1;31mNameError\u001b[0m: name 'Chart' is not defined"
     ]
    }
   ],
   "source": [
    "c = Chart(df).mark_point(filled=True).encode(\n",
    "    x='Temp (Deg F)',\n",
    "    y='Cricket Chirps/Sec'\n",
    ")\n",
    "c"
   ]
  },
  {
   "cell_type": "markdown",
   "metadata": {},
   "source": [
    "Since a linear relationship appears to be present, we can run a simple linear regression so that we can predict how many cricket chirps per second we expect at a given temperature. "
   ]
  },
  {
   "cell_type": "code",
   "execution_count": 4,
   "metadata": {
    "collapsed": false
   },
   "outputs": [
    {
     "name": "stderr",
     "output_type": "stream",
     "text": [
      "C:\\Users\\212574846\\AppData\\Local\\Continuum\\Anaconda3\\lib\\site-packages\\scipy\\stats\\stats.py:1535: UserWarning: kurtosistest only valid for n>=20 ... continuing anyway, n=15\n",
      "  \"anyway, n=%i\" % int(n))\n"
     ]
    },
    {
     "data": {
      "text/html": [
       "<table class=\"simpletable\">\n",
       "<caption>OLS Regression Results</caption>\n",
       "<tr>\n",
       "  <th>Dep. Variable:</th>    <td>Cricket Chirps/Sec</td> <th>  R-squared:         </th> <td>   0.697</td>\n",
       "</tr>\n",
       "<tr>\n",
       "  <th>Model:</th>                    <td>OLS</td>        <th>  Adj. R-squared:    </th> <td>   0.674</td>\n",
       "</tr>\n",
       "<tr>\n",
       "  <th>Method:</th>              <td>Least Squares</td>   <th>  F-statistic:       </th> <td>   29.97</td>\n",
       "</tr>\n",
       "<tr>\n",
       "  <th>Date:</th>              <td>Mon, 28 Nov 2016</td>  <th>  Prob (F-statistic):</th> <td>0.000107</td>\n",
       "</tr>\n",
       "<tr>\n",
       "  <th>Time:</th>                  <td>10:59:38</td>      <th>  Log-Likelihood:    </th> <td> -19.777</td>\n",
       "</tr>\n",
       "<tr>\n",
       "  <th>No. Observations:</th>       <td>    15</td>       <th>  AIC:               </th> <td>   43.55</td>\n",
       "</tr>\n",
       "<tr>\n",
       "  <th>Df Residuals:</th>           <td>    13</td>       <th>  BIC:               </th> <td>   44.97</td>\n",
       "</tr>\n",
       "<tr>\n",
       "  <th>Df Model:</th>               <td>     1</td>       <th>                     </th>     <td> </td>   \n",
       "</tr>\n",
       "<tr>\n",
       "  <th>Covariance Type:</th>       <td>nonrobust</td>     <th>                     </th>     <td> </td>   \n",
       "</tr>\n",
       "</table>\n",
       "<table class=\"simpletable\">\n",
       "<tr>\n",
       "        <td></td>          <th>coef</th>     <th>std err</th>      <th>t</th>      <th>P>|t|</th> <th>[95.0% Conf. Int.]</th> \n",
       "</tr>\n",
       "<tr>\n",
       "  <th>const</th>        <td>   -0.3091</td> <td>    3.109</td> <td>   -0.099</td> <td> 0.922</td> <td>   -7.025     6.407</td>\n",
       "</tr>\n",
       "<tr>\n",
       "  <th>Temp (Deg F)</th> <td>    0.2119</td> <td>    0.039</td> <td>    5.475</td> <td> 0.000</td> <td>    0.128     0.296</td>\n",
       "</tr>\n",
       "</table>\n",
       "<table class=\"simpletable\">\n",
       "<tr>\n",
       "  <th>Omnibus:</th>       <td> 0.525</td> <th>  Durbin-Watson:     </th> <td>   0.960</td>\n",
       "</tr>\n",
       "<tr>\n",
       "  <th>Prob(Omnibus):</th> <td> 0.769</td> <th>  Jarque-Bera (JB):  </th> <td>   0.579</td>\n",
       "</tr>\n",
       "<tr>\n",
       "  <th>Skew:</th>          <td>-0.196</td> <th>  Prob(JB):          </th> <td>   0.749</td>\n",
       "</tr>\n",
       "<tr>\n",
       "  <th>Kurtosis:</th>      <td> 2.121</td> <th>  Cond. No.          </th> <td>    995.</td>\n",
       "</tr>\n",
       "</table>"
      ],
      "text/plain": [
       "<class 'statsmodels.iolib.summary.Summary'>\n",
       "\"\"\"\n",
       "                            OLS Regression Results                            \n",
       "==============================================================================\n",
       "Dep. Variable:     Cricket Chirps/Sec   R-squared:                       0.697\n",
       "Model:                            OLS   Adj. R-squared:                  0.674\n",
       "Method:                 Least Squares   F-statistic:                     29.97\n",
       "Date:                Mon, 28 Nov 2016   Prob (F-statistic):           0.000107\n",
       "Time:                        10:59:38   Log-Likelihood:                -19.777\n",
       "No. Observations:                  15   AIC:                             43.55\n",
       "Df Residuals:                      13   BIC:                             44.97\n",
       "Df Model:                           1                                         \n",
       "Covariance Type:            nonrobust                                         \n",
       "================================================================================\n",
       "                   coef    std err          t      P>|t|      [95.0% Conf. Int.]\n",
       "--------------------------------------------------------------------------------\n",
       "const           -0.3091      3.109     -0.099      0.922        -7.025     6.407\n",
       "Temp (Deg F)     0.2119      0.039      5.475      0.000         0.128     0.296\n",
       "==============================================================================\n",
       "Omnibus:                        0.525   Durbin-Watson:                   0.960\n",
       "Prob(Omnibus):                  0.769   Jarque-Bera (JB):                0.579\n",
       "Skew:                          -0.196   Prob(JB):                        0.749\n",
       "Kurtosis:                       2.121   Cond. No.                         995.\n",
       "==============================================================================\n",
       "\n",
       "Warnings:\n",
       "[1] Standard Errors assume that the covariance matrix of the errors is correctly specified.\n",
       "\"\"\""
      ]
     },
     "execution_count": 4,
     "metadata": {},
     "output_type": "execute_result"
    }
   ],
   "source": [
    "X = df[['Temp (Deg F)']]\n",
    "Y = df['Cricket Chirps/Sec']\n",
    "\n",
    "X = sm.add_constant(X)\n",
    "model = sm.OLS(Y, X).fit()\n",
    "\n",
    "model.summary()"
   ]
  },
  {
   "cell_type": "markdown",
   "metadata": {},
   "source": [
    "Returning to the equation for a simple linear regression, our results are of the form $y   = \\alpha + \\beta x$, where:\n",
    "* $y$ is the predicted chirps per second with a given temperature\n",
    "* $x$ is the given temperature\n",
    "* $\\alpha$ and $\\beta$ are the coefficients from the simple linear regression, given by `model.params[0]` and `model.params[1]` in this example\n",
    "\n",
    "Given a temperature and the results of the regression, we can then predict the number of chirps per second at a given temperature:"
   ]
  },
  {
   "cell_type": "code",
   "execution_count": 5,
   "metadata": {
    "collapsed": false
   },
   "outputs": [
    {
     "name": "stdout",
     "output_type": "stream",
     "text": [
      "The model predicts that there will be 13 chirps per second at a temperature of 65 degrees.\n"
     ]
    }
   ],
   "source": [
    "# Pick a temperature\n",
    "temp = 65\n",
    "\n",
    "# Predicted chirps at that temperature\n",
    "chirps = model.params[0] + model.params[1]*temp\n",
    "print('The model predicts that there will be %d chirps per second at a temperature of %d degrees.' %(chirps, temp))"
   ]
  },
  {
   "cell_type": "markdown",
   "metadata": {},
   "source": [
    "We can also plot the linear regression with our data:"
   ]
  },
  {
   "cell_type": "code",
   "execution_count": 6,
   "metadata": {
    "collapsed": false
   },
   "outputs": [
    {
     "data": {
      "image/png": "[encoded data removed]",
      "text/plain": [
       "<matplotlib.figure.Figure at 0xbbdef98>"
      ]
     },
     "metadata": {},
     "output_type": "display_data"
    },
    {
     "data": {
      "text/plain": [
       "<matplotlib.figure.Figure at 0xbc36748>"
      ]
     },
     "metadata": {},
     "output_type": "display_data"
    }
   ],
   "source": [
    "# Build arrays for linear regression line\n",
    "temps = [0, 100]\n",
    "chirps = [0, 0]\n",
    "for item in range(0,len(temps)):\n",
    "    chirps[item] = model.params[0] + model.params[1]*temps[item]\n",
    "\n",
    "# Plot figure   \n",
    "fig = plt.figure(figsize=[7,5])\n",
    "ax1 = plt.subplot(111)\n",
    "plt.plot(temps,chirps, linewidth=2, linestyle='--', color='#0745AB', label='Linear Regression')\n",
    "plt.plot(df[['Temp (Deg F)']], df[['Cricket Chirps/Sec']], linewidth=0, marker='o', markeredgecolor='k', markerfacecolor='#FE5000', label='Observed Data')\n",
    "plt.ylabel('Chirps/Sec')\n",
    "plt.xlabel('Temperature (°F)')\n",
    "#ax1.set_title('Title', fontsize=18)\n",
    "ax1.spines[\"top\"].set_visible(False)  \n",
    "ax1.spines[\"right\"].set_visible(False)  \n",
    "ax1.get_xaxis().tick_bottom()\n",
    "ax1.get_yaxis().tick_left()\n",
    "plt.legend(loc=4, ncol=1, shadow=True, fancybox=True, fontsize=9)\n",
    "plt.ylim((0,25))\n",
    "plt.show()\n",
    "plt.savefig('simple-linear-regression.png', dpi=1000)"
   ]
  },
  {
   "cell_type": "markdown",
   "metadata": {
    "collapsed": true
   },
   "source": [
    "#### "
   ]
  },
  {
   "cell_type": "code",
   "execution_count": null,
   "metadata": {
    "collapsed": true
   },
   "outputs": [],
   "source": []
  },
  {
   "cell_type": "code",
   "execution_count": null,
   "metadata": {
    "collapsed": true
   },
   "outputs": [],
   "source": []
  },
  {
   "cell_type": "code",
   "execution_count": null,
   "metadata": {
    "collapsed": true
   },
   "outputs": [],
   "source": []
  },
  {
   "cell_type": "code",
   "execution_count": null,
   "metadata": {
    "collapsed": true
   },
   "outputs": [],
   "source": []
  },
  {
   "cell_type": "code",
   "execution_count": null,
   "metadata": {
    "collapsed": true
   },
   "outputs": [],
   "source": []
  },
  {
   "cell_type": "markdown",
   "metadata": {},
   "source": [
    "Use this for multiple linear regression: [*Multivariate Statistics: Concepts, Models, and Applications* by \n",
    "David W. Stockburger](http://www.psychstat.missouristate.edu/multibook/mlt08m.html)"
   ]
  },
  {
   "cell_type": "code",
   "execution_count": null,
   "metadata": {
    "collapsed": false
   },
   "outputs": [],
   "source": [
    "df = pd.read_csv('data/faculty-data.csv')\n",
    "df.tail()"
   ]
  },
  {
   "cell_type": "code",
   "execution_count": null,
   "metadata": {
    "collapsed": true
   },
   "outputs": [],
   "source": []
  },
  {
   "cell_type": "markdown",
   "metadata": {},
   "source": [
    "## Multiple Linear Regression\n",
    "*Linear regression to predict the dependent variable using multiple (including categorical) independent variables.*\n",
    "\n",
    "See [this post from DataRobot](https://www.datarobot.com/blog/multiple-regression-using-statsmodels/) and [Scipy Lecture Notes](http://www.scipy-lectures.org/packages/statistics/auto_examples/plot_regression_3d.html) for examples."
   ]
  },
  {
   "cell_type": "code",
   "execution_count": null,
   "metadata": {
    "collapsed": false
   },
   "outputs": [],
   "source": [
    "df_adv = pd.read_csv('data/Advertising.csv', parse_dates=True, index_col=0)\n",
    "df_adv.head()"
   ]
  },
  {
   "cell_type": "code",
   "execution_count": null,
   "metadata": {
    "collapsed": false
   },
   "outputs": [],
   "source": [
    "X = df_adv[['Facebook', 'Twitter','LinkedIn']]\n",
    "Y = df_adv['Sales']\n",
    "\n",
    "X = sm.add_constant(X)\n",
    "model = sm.OLS(Y, X).fit()\n",
    "\n",
    "model.summary()"
   ]
  },
  {
   "cell_type": "code",
   "execution_count": null,
   "metadata": {
    "collapsed": false
   },
   "outputs": [],
   "source": [
    "df_reg = pd.DataFrame({ 'X' : range(1, 300 + 1 ,1)})\n",
    "df_reg[['Facebook-reg']] = df_reg[['X']] * model.params[1]\n",
    "df_reg[['Twitter-reg']] = df_reg[['X']] * model.params[2]\n",
    "df_reg[['LinkedIn-reg']] = df_reg[['X']] * model.params[3]\n",
    "\n",
    "df_reg.head()"
   ]
  },
  {
   "cell_type": "code",
   "execution_count": null,
   "metadata": {
    "collapsed": false
   },
   "outputs": [],
   "source": [
    "Chart(df_reg).mark_circle().encode(\n",
    "    x='X',\n",
    "    y='Facebook-reg',\n",
    ")"
   ]
  },
  {
   "cell_type": "code",
   "execution_count": null,
   "metadata": {
    "collapsed": false
   },
   "outputs": [],
   "source": [
    "Chart(df_reg).mark_circle().encode(\n",
    "    x='X',\n",
    "    y='Twitter-reg',\n",
    ")"
   ]
  },
  {
   "cell_type": "code",
   "execution_count": null,
   "metadata": {
    "collapsed": false
   },
   "outputs": [],
   "source": [
    "Chart(df_reg).mark_circle().encode(\n",
    "    x='X',\n",
    "    y='LinkedIn-reg',\n",
    ")"
   ]
  },
  {
   "cell_type": "markdown",
   "metadata": {},
   "source": [
    "# Credit"
   ]
  },
  {
   "cell_type": "code",
   "execution_count": null,
   "metadata": {
    "collapsed": false
   },
   "outputs": [],
   "source": [
    "import statsmodels.formula.api as smf\n",
    "\n",
    "df_crd = pd.read_csv('data/Credit.csv', parse_dates=True, index_col=0)\n",
    "df_crd.head()"
   ]
  },
  {
   "cell_type": "code",
   "execution_count": null,
   "metadata": {
    "collapsed": false
   },
   "outputs": [],
   "source": [
    "model = smf.ols(formula='Rating ~ Income + Limit + Cards + Age + Education + C(Gender) + C(Student) + '\n",
    "                'C(Married) + C(Ethnicity) + Balance', data=df_crd).fit()\n",
    "\n",
    "model.summary()"
   ]
  },
  {
   "cell_type": "markdown",
   "metadata": {},
   "source": [
    "From the results, we see that the following attributes contribute to a higher credit rating:\n",
    "- being female\n",
    "- not being a student\n",
    "- being married\n",
    "- not being Asian or Caucasian\n",
    "- having a higher income\n",
    "- having a higher credit limit\n",
    "- having more cards\n",
    "- being older\n",
    "- not having more education\n",
    "- having a higher balance"
   ]
  },
  {
   "cell_type": "code",
   "execution_count": null,
   "metadata": {
    "collapsed": true
   },
   "outputs": [],
   "source": []
  }
 ],
 "metadata": {
  "kernelspec": {
   "display_name": "Python [Root]",
   "language": "python",
   "name": "Python [Root]"
  },
  "language_info": {
   "codemirror_mode": {
    "name": "ipython",
    "version": 3
   },
   "file_extension": ".py",
   "mimetype": "text/x-python",
   "name": "python",
   "nbconvert_exporter": "python",
   "pygments_lexer": "ipython3",
   "version": "3.5.2"
  }
 },
 "nbformat": 4,
 "nbformat_minor": 0
}
