{
 "cells": [
  {
   "cell_type": "markdown",
   "metadata": {},
   "source": [
    "## [10 things you really should know about jupyter notebooks - Jakub Czakon](https://www.youtube.com/watch?v=FwUcJFSAfQw&feature=youtu.be&t=211)"
   ]
  },
  {
   "cell_type": "markdown",
   "metadata": {},
   "source": [
    "### Jupyter Themes\n",
    "- [Video - 4:20](https://youtu.be/FwUcJFSAfQw?t=240)\n",
    "- Install with `pip install jupyterthemes`\n",
    "- Note: you may need to clear your browser cache for changes to take place\n",
    "- More info [here](https://github.com/dunovank/jupyter-themes)"
   ]
  },
  {
   "cell_type": "code",
   "execution_count": 1,
   "metadata": {
    "ExecuteTime": {
     "end_time": "2017-12-24T12:11:17.583409Z",
     "start_time": "2017-12-24T12:11:15.787806Z"
    },
    "collapsed": true
   },
   "outputs": [],
   "source": [
    "!jt -t monokai -T"
   ]
  },
  {
   "cell_type": "markdown",
   "metadata": {
    "collapsed": true
   },
   "source": [
    "### Extensions\n",
    "- [Video - 5:25](https://youtu.be/FwUcJFSAfQw?t=325)\n",
    "- Install with `pip install jupyter_contrib_nbextensions` (juypter notebook server must not be running)\n",
    "- Install individual extensions with `jupyter-contrib nbextension install --sys-prefix`\n",
    "- From the Jupyter Notebook home, you can enable extensions on the **Nbextensions** tab. Refresh open notebooks to enable new extensions. "
   ]
  },
  {
   "cell_type": "markdown",
   "metadata": {
    "collapsed": true
   },
   "source": [
    "Some awsome extensions he introduced include:\n",
    "- **Table of Contents**: inserts an automatic table of contents based on your markdown headings\n",
    "- **Snippets Menu**: drops canned code snippets for common operations in popular libraries into a cell.\n",
    "  - You can make your own snippets by checking \"Include custom menu content parsed from JSON string below\" editing the \"JSON string parsed to define custom menus (only used if the option above is checked)\"\n",
    "  \n",
    "```json\n",
    "{\n",
    "    \"name\" : \"MAG Snippets\",\n",
    "    \"sub-menu\" : [\n",
    "        {\n",
    "            \"name\" : \"Data Import ($\\\\texttt{.xlsx}$)\",\n",
    "            \"sub-menu\" : [\n",
    "                {\n",
    "                    \"name\" : \"Asset Book Master Live\",\n",
    "                    \"snippet\" : [\"import pandas as pd\",\n",
    "                        \"df = pd.read_excel('Asset Book Master Live')\"]\n",
    "                }\n",
    "            ]\n",
    "        }\n",
    "    ]\n",
    "}\n",
    "```"
   ]
  },
  {
   "cell_type": "markdown",
   "metadata": {
    "collapsed": true
   },
   "source": [
    "### Magics\n",
    "- [Video - 13:48](https://youtu.be/FwUcJFSAfQw?t=820)\n",
    "- Documentation [here](http://ipython.readthedocs.io/en/stable/interactive/magics.html)"
   ]
  },
  {
   "cell_type": "code",
   "execution_count": 2,
   "metadata": {
    "ExecuteTime": {
     "end_time": "2017-12-24T12:11:17.599103Z",
     "start_time": "2017-12-24T12:11:17.586546Z"
    }
   },
   "outputs": [
    {
     "data": {
      "application/json": {
       "cell": {
        "!": "OSMagics",
        "HTML": "Other",
        "SVG": "Other",
        "bash": "Other",
        "capture": "ExecutionMagics",
        "debug": "ExecutionMagics",
        "file": "Other",
        "html": "DisplayMagics",
        "javascript": "DisplayMagics",
        "js": "DisplayMagics",
        "latex": "DisplayMagics",
        "markdown": "DisplayMagics",
        "perl": "Other",
        "prun": "ExecutionMagics",
        "pypy": "Other",
        "python": "Other",
        "python2": "Other",
        "python3": "Other",
        "ruby": "Other",
        "script": "ScriptMagics",
        "sh": "Other",
        "svg": "DisplayMagics",
        "sx": "OSMagics",
        "system": "OSMagics",
        "time": "ExecutionMagics",
        "timeit": "ExecutionMagics",
        "writefile": "OSMagics"
       },
       "line": {
        "alias": "OSMagics",
        "alias_magic": "BasicMagics",
        "autocall": "AutoMagics",
        "automagic": "AutoMagics",
        "autosave": "KernelMagics",
        "bookmark": "OSMagics",
        "cat": "Other",
        "cd": "OSMagics",
        "clear": "KernelMagics",
        "colors": "BasicMagics",
        "config": "ConfigMagics",
        "connect_info": "KernelMagics",
        "cp": "Other",
        "debug": "ExecutionMagics",
        "dhist": "OSMagics",
        "dirs": "OSMagics",
        "doctest_mode": "BasicMagics",
        "ed": "Other",
        "edit": "KernelMagics",
        "env": "OSMagics",
        "gui": "BasicMagics",
        "hist": "Other",
        "history": "HistoryMagics",
        "killbgscripts": "ScriptMagics",
        "ldir": "Other",
        "less": "KernelMagics",
        "lf": "Other",
        "lk": "Other",
        "ll": "Other",
        "load": "CodeMagics",
        "load_ext": "ExtensionMagics",
        "loadpy": "CodeMagics",
        "logoff": "LoggingMagics",
        "logon": "LoggingMagics",
        "logstart": "LoggingMagics",
        "logstate": "LoggingMagics",
        "logstop": "LoggingMagics",
        "ls": "Other",
        "lsmagic": "BasicMagics",
        "lx": "Other",
        "macro": "ExecutionMagics",
        "magic": "BasicMagics",
        "man": "KernelMagics",
        "matplotlib": "PylabMagics",
        "mkdir": "Other",
        "more": "KernelMagics",
        "mv": "Other",
        "notebook": "BasicMagics",
        "page": "BasicMagics",
        "pastebin": "CodeMagics",
        "pdb": "ExecutionMagics",
        "pdef": "NamespaceMagics",
        "pdoc": "NamespaceMagics",
        "pfile": "NamespaceMagics",
        "pinfo": "NamespaceMagics",
        "pinfo2": "NamespaceMagics",
        "pip": "BasicMagics",
        "popd": "OSMagics",
        "pprint": "BasicMagics",
        "precision": "BasicMagics",
        "profile": "BasicMagics",
        "prun": "ExecutionMagics",
        "psearch": "NamespaceMagics",
        "psource": "NamespaceMagics",
        "pushd": "OSMagics",
        "pwd": "OSMagics",
        "pycat": "OSMagics",
        "pylab": "PylabMagics",
        "qtconsole": "KernelMagics",
        "quickref": "BasicMagics",
        "recall": "HistoryMagics",
        "rehashx": "OSMagics",
        "reload_ext": "ExtensionMagics",
        "rep": "Other",
        "rerun": "HistoryMagics",
        "reset": "NamespaceMagics",
        "reset_selective": "NamespaceMagics",
        "rm": "Other",
        "rmdir": "Other",
        "run": "ExecutionMagics",
        "save": "CodeMagics",
        "sc": "OSMagics",
        "set_env": "OSMagics",
        "store": "StoreMagics",
        "sx": "OSMagics",
        "system": "OSMagics",
        "tb": "ExecutionMagics",
        "time": "ExecutionMagics",
        "timeit": "ExecutionMagics",
        "unalias": "OSMagics",
        "unload_ext": "ExtensionMagics",
        "who": "NamespaceMagics",
        "who_ls": "NamespaceMagics",
        "whos": "NamespaceMagics",
        "xdel": "NamespaceMagics",
        "xmode": "BasicMagics"
       }
      },
      "text/plain": [
       "Available line magics:\n",
       "%alias  %alias_magic  %autocall  %automagic  %autosave  %bookmark  %cat  %cd  %clear  %colors  %config  %connect_info  %cp  %debug  %dhist  %dirs  %doctest_mode  %ed  %edit  %env  %gui  %hist  %history  %killbgscripts  %ldir  %less  %lf  %lk  %ll  %load  %load_ext  %loadpy  %logoff  %logon  %logstart  %logstate  %logstop  %ls  %lsmagic  %lx  %macro  %magic  %man  %matplotlib  %mkdir  %more  %mv  %notebook  %page  %pastebin  %pdb  %pdef  %pdoc  %pfile  %pinfo  %pinfo2  %popd  %pprint  %precision  %profile  %prun  %psearch  %psource  %pushd  %pwd  %pycat  %pylab  %qtconsole  %quickref  %recall  %rehashx  %reload_ext  %rep  %rerun  %reset  %reset_selective  %rm  %rmdir  %run  %save  %sc  %set_env  %store  %sx  %system  %tb  %time  %timeit  %unalias  %unload_ext  %who  %who_ls  %whos  %xdel  %xmode\n",
       "\n",
       "Available cell magics:\n",
       "%%!  %%HTML  %%SVG  %%bash  %%capture  %%debug  %%file  %%html  %%javascript  %%js  %%latex  %%markdown  %%perl  %%prun  %%pypy  %%python  %%python2  %%python3  %%ruby  %%script  %%sh  %%svg  %%sx  %%system  %%time  %%timeit  %%writefile\n",
       "\n",
       "Automagic is ON, % prefix IS NOT needed for line magics."
      ]
     },
     "execution_count": 2,
     "metadata": {},
     "output_type": "execute_result"
    }
   ],
   "source": [
    "%lsmagic"
   ]
  },
  {
   "cell_type": "code",
   "execution_count": 3,
   "metadata": {
    "ExecuteTime": {
     "end_time": "2017-12-24T12:11:17.608629Z",
     "start_time": "2017-12-24T12:11:17.601167Z"
    },
    "collapsed": true
   },
   "outputs": [],
   "source": [
    "# lets you peek at a file\n",
    "%pycat about.py"
   ]
  },
  {
   "cell_type": "code",
   "execution_count": 4,
   "metadata": {
    "ExecuteTime": {
     "end_time": "2017-12-24T12:11:17.613313Z",
     "start_time": "2017-12-24T12:11:17.610627Z"
    },
    "collapsed": true
   },
   "outputs": [],
   "source": [
    "# loads code from a file into the cell\n",
    "#%load about.py"
   ]
  },
  {
   "cell_type": "code",
   "execution_count": 5,
   "metadata": {
    "ExecuteTime": {
     "end_time": "2017-12-24T12:11:18.489342Z",
     "start_time": "2017-12-24T12:11:17.615263Z"
    }
   },
   "outputs": [
    {
     "name": "stdout",
     "output_type": "stream",
     "text": [
      "sys.version: 3.6.3 |Anaconda custom (64-bit)| (default, Oct  6 2017, 12:04:38) \n",
      "[GCC 4.2.1 Compatible Clang 4.0.1 (tags/RELEASE_401/final)]\n",
      "sys.version_info: sys.version_info(major=3, minor=6, micro=3, releaselevel='final', serial=0)\n",
      "sys.platform: darwin\n",
      "sys.prefix: /Users/matthewkudija/anaconda3\n",
      "\n",
      "sys.path:\n",
      "    /Users/matthewkudija/Desktop\n",
      "    \n",
      "    /Users/matthewkudija/anaconda3/lib/python36.zip\n",
      "    /Users/matthewkudija/anaconda3/lib/python3.6\n",
      "    /Users/matthewkudija/anaconda3/lib/python3.6/lib-dynload\n",
      "    /Users/matthewkudija/anaconda3/lib/python3.6/site-packages\n",
      "    /Users/matthewkudija/anaconda3/lib/python3.6/site-packages/aeosa\n",
      "    /Users/matthewkudija/anaconda3/lib/python3.6/site-packages/IPython/extensions\n",
      "    /Users/matthewkudija/.ipython\n",
      "\n",
      "Environment vars with \"python\" in name or value:\n",
      "\n",
      "matplotlib package found\n",
      "    matplotlib.__version__: 2.1.0\n",
      "    matplotlib.__file__: /Users/matthewkudija/anaconda3/lib/python3.6/site-packages/matplotlib/__init__.py\n",
      "    matplotlib.get_configdir(): /Users/matthewkudija/.matplotlib\n",
      "numpy package found\n",
      "    numpy.__version__: 1.13.3\n",
      "    numpy.__file__: /Users/matthewkudija/anaconda3/lib/python3.6/site-packages/numpy/__init__.py\n",
      "scipy package found\n",
      "    scipy.__version__: 0.19.1\n",
      "    scipy.__file__: /Users/matthewkudija/anaconda3/lib/python3.6/site-packages/scipy/__init__.py\n",
      "pandas package found\n",
      "    pandas.__version__: 0.21.1\n",
      "    pandas.__file__: /Users/matthewkudija/anaconda3/lib/python3.6/site-packages/pandas/__init__.py\n",
      "sqlalchemy package found\n",
      "    sqlalchemy.__version__: 1.1.13\n",
      "    sqlalchemy.__file__: /Users/matthewkudija/anaconda3/lib/python3.6/site-packages/sqlalchemy/__init__.py\n",
      "sklearn package found\n",
      "    sklearn.__version__: 0.19.1\n",
      "    sklearn.__file__: /Users/matthewkudija/anaconda3/lib/python3.6/site-packages/sklearn/__init__.py\n",
      "PySide package not found\n",
      "PyQt4 package not found\n",
      "bokeh package found\n",
      "    bokeh.__version__: 0.12.13\n",
      "    bokeh.__file__: /Users/matthewkudija/anaconda3/lib/python3.6/site-packages/bokeh/__init__.py\n",
      "pyodbc package found\n",
      "    pyodbc.version: 4.0.17\n",
      "    pyodbc.__file__: /Users/matthewkudija/anaconda3/lib/python3.6/site-packages/pyodbc.cpython-36m-darwin.so\n",
      "PyPDF2 package not found\n",
      "win32com package not found\n",
      "comtypes package not found\n",
      "pylint.lint package found\n",
      "    pylint.lint.version: 1.7.4\n",
      "    pylint.lint.__file__: /Users/matthewkudija/anaconda3/lib/python3.6/site-packages/pylint/lint.py\n",
      "astroid package found\n",
      "    astroid.__version__: 1.5.3\n",
      "    astroid.__file__: /Users/matthewkudija/anaconda3/lib/python3.6/site-packages/astroid/__init__.py\n",
      "cython package found\n",
      "    cython.__version__: 0.26.1\n",
      "    cython.__file__: /Users/matthewkudija/anaconda3/lib/python3.6/site-packages/cython.py\n",
      "PIL package found\n",
      "    PIL.__version__: 4.2.1\n",
      "    PIL.__file__: /Users/matthewkudija/anaconda3/lib/python3.6/site-packages/PIL/__init__.py\n",
      "enchant package not found\n",
      "kivy package not found\n",
      "obd package not found\n"
     ]
    }
   ],
   "source": [
    "# run code from a file and outputs displayed in your notebook\n",
    "%run about.py"
   ]
  },
  {
   "cell_type": "code",
   "execution_count": 6,
   "metadata": {
    "ExecuteTime": {
     "end_time": "2017-12-24T12:11:18.496469Z",
     "start_time": "2017-12-24T12:11:18.491392Z"
    }
   },
   "outputs": [
    {
     "data": {
      "text/plain": [
       "{'Apple_PubSub_Socket_Render': '/private/tmp/com.apple.launchd.cYvkx3nj5K/Render',\n",
       " 'CLICOLOR': '1',\n",
       " 'GIT_PAGER': 'cat',\n",
       " 'HOME': '/Users/matthewkudija',\n",
       " 'JPY_PARENT_PID': '25393',\n",
       " 'LANG': 'en_US.UTF-8',\n",
       " 'LOGNAME': 'matthewkudija',\n",
       " 'MPLBACKEND': 'module://ipykernel.pylab.backend_inline',\n",
       " 'OLDPWD': '/Users/matthewkudija',\n",
       " 'PAGER': 'cat',\n",
       " 'PATH': '/Users/matthewkudija/anaconda3/bin:/Users/matthewkudija/anaconda3/bin:/usr/local/bin:/usr/bin:/bin:/usr/sbin:/sbin',\n",
       " 'PWD': '/Users/matthewkudija/desktop',\n",
       " 'SHELL': '/bin/bash',\n",
       " 'SHLVL': '1',\n",
       " 'SSH_AUTH_SOCK': '/private/tmp/com.apple.launchd.1HC8CTCHyQ/Listeners',\n",
       " 'TERM': 'xterm-color',\n",
       " 'TERM_PROGRAM': 'Apple_Terminal',\n",
       " 'TERM_PROGRAM_VERSION': '388',\n",
       " 'TERM_SESSION_ID': '2C9C4994-A69A-4D54-9E59-4147D257C7CD',\n",
       " 'TMPDIR': '/var/folders/hv/b_g9n5v968bc9mh_mtyn40bc0000gn/T/',\n",
       " 'USER': 'matthewkudija',\n",
       " 'XPC_FLAGS': '0x0',\n",
       " 'XPC_SERVICE_NAME': '0',\n",
       " '_': '/Users/matthewkudija/anaconda3/bin/jupyter',\n",
       " '__CF_USER_TEXT_ENCODING': '0x1F5:0x0:0x0'}"
      ]
     },
     "execution_count": 6,
     "metadata": {},
     "output_type": "execute_result"
    }
   ],
   "source": [
    "# get environmental variables\n",
    "%env"
   ]
  },
  {
   "cell_type": "code",
   "execution_count": 7,
   "metadata": {
    "ExecuteTime": {
     "end_time": "2017-12-24T12:11:18.503123Z",
     "start_time": "2017-12-24T12:11:18.498284Z"
    }
   },
   "outputs": [
    {
     "name": "stdout",
     "output_type": "stream",
     "text": [
      "Pretty printing has been turned OFF\n",
      "This\n"
     ]
    }
   ],
   "source": [
    "# toggle pretty printing\n",
    "%pprint\n",
    "print('This')"
   ]
  },
  {
   "cell_type": "code",
   "execution_count": 8,
   "metadata": {
    "ExecuteTime": {
     "end_time": "2017-12-24T12:11:18.510115Z",
     "start_time": "2017-12-24T12:11:18.505138Z"
    }
   },
   "outputs": [
    {
     "data": {
      "text/plain": [
       "'/Users/matthewkudija/Desktop'"
      ]
     },
     "execution_count": 8,
     "metadata": {},
     "output_type": "execute_result"
    }
   ],
   "source": [
    "# print cwd\n",
    "%pwd"
   ]
  },
  {
   "cell_type": "code",
   "execution_count": 9,
   "metadata": {
    "ExecuteTime": {
     "end_time": "2017-12-24T12:11:18.884726Z",
     "start_time": "2017-12-24T12:11:18.511932Z"
    }
   },
   "outputs": [
    {
     "name": "stdout",
     "output_type": "stream",
     "text": [
      "/Users/matthewkudija/desktop\r\n"
     ]
    }
   ],
   "source": [
    "# run shell command (but notice how much faster %pwd is!)\n",
    "!pwd"
   ]
  },
  {
   "cell_type": "code",
   "execution_count": 10,
   "metadata": {
    "ExecuteTime": {
     "end_time": "2017-12-24T12:11:21.111417Z",
     "start_time": "2017-12-24T12:11:18.887812Z"
    }
   },
   "outputs": [
    {
     "name": "stdout",
     "output_type": "stream",
     "text": [
      "Requirement already satisfied: watermark in /Users/matthewkudija/anaconda3/lib/python3.6/site-packages\n",
      "Requirement already satisfied: ipython in /Users/matthewkudija/anaconda3/lib/python3.6/site-packages (from watermark)\n",
      "Requirement already satisfied: setuptools>=18.5 in /Users/matthewkudija/anaconda3/lib/python3.6/site-packages (from ipython->watermark)\n",
      "Requirement already satisfied: jedi>=0.10 in /Users/matthewkudija/anaconda3/lib/python3.6/site-packages (from ipython->watermark)\n",
      "Requirement already satisfied: decorator in /Users/matthewkudija/anaconda3/lib/python3.6/site-packages (from ipython->watermark)\n",
      "Requirement already satisfied: pickleshare in /Users/matthewkudija/anaconda3/lib/python3.6/site-packages (from ipython->watermark)\n",
      "Requirement already satisfied: simplegeneric>0.8 in /Users/matthewkudija/anaconda3/lib/python3.6/site-packages (from ipython->watermark)\n",
      "Requirement already satisfied: traitlets>=4.2 in /Users/matthewkudija/anaconda3/lib/python3.6/site-packages (from ipython->watermark)\n",
      "Requirement already satisfied: prompt_toolkit<2.0.0,>=1.0.4 in /Users/matthewkudija/anaconda3/lib/python3.6/site-packages (from ipython->watermark)\n",
      "Requirement already satisfied: pygments in /Users/matthewkudija/anaconda3/lib/python3.6/site-packages (from ipython->watermark)\n",
      "Requirement already satisfied: appnope in /Users/matthewkudija/anaconda3/lib/python3.6/site-packages (from ipython->watermark)\n",
      "Requirement already satisfied: pexpect in /Users/matthewkudija/anaconda3/lib/python3.6/site-packages (from ipython->watermark)\n",
      "Requirement already satisfied: ipython_genutils in /Users/matthewkudija/anaconda3/lib/python3.6/site-packages (from traitlets>=4.2->ipython->watermark)\n",
      "Requirement already satisfied: six in /Users/matthewkudija/anaconda3/lib/python3.6/site-packages (from traitlets>=4.2->ipython->watermark)\n",
      "Requirement already satisfied: wcwidth in /Users/matthewkudija/anaconda3/lib/python3.6/site-packages (from prompt_toolkit<2.0.0,>=1.0.4->ipython->watermark)\n"
     ]
    }
   ],
   "source": [
    "# install extra packages\n",
    "!pip install watermark"
   ]
  },
  {
   "cell_type": "code",
   "execution_count": 11,
   "metadata": {
    "ExecuteTime": {
     "end_time": "2017-12-24T12:11:21.434491Z",
     "start_time": "2017-12-24T12:11:21.114259Z"
    }
   },
   "outputs": [
    {
     "name": "stdout",
     "output_type": "stream",
     "text": [
      "2017-12-24T07:11:21-05:00\n",
      "\n",
      "CPython 3.6.3\n",
      "IPython 6.1.0\n",
      "\n",
      "compiler   : GCC 4.2.1 Compatible Clang 4.0.1 (tags/RELEASE_401/final)\n",
      "system     : Darwin\n",
      "release    : 16.3.0\n",
      "machine    : x86_64\n",
      "processor  : i386\n",
      "CPU cores  : 8\n",
      "interpreter: 64bit\n"
     ]
    }
   ],
   "source": [
    "# print watermark\n",
    "%reload_ext watermark\n",
    "%watermark"
   ]
  },
  {
   "cell_type": "markdown",
   "metadata": {
    "ExecuteTime": {
     "end_time": "2017-12-24T11:45:52.081307Z",
     "start_time": "2017-12-24T11:45:52.076498Z"
    }
   },
   "source": [
    "### Interactive Visualization\n",
    "- [Video - 20:05](https://youtu.be/FwUcJFSAfQw?t=1206)"
   ]
  },
  {
   "cell_type": "code",
   "execution_count": 7,
   "metadata": {
    "ExecuteTime": {
     "end_time": "2017-12-24T12:24:35.351703Z",
     "start_time": "2017-12-24T12:24:35.176558Z"
    },
    "collapsed": true
   },
   "outputs": [],
   "source": [
    "import pandas as pd\n",
    "df = pd.read_pickle('/Users/matthewkudija/Documents/GitHub/Aircraft-Data/Data/Ascend-Data/COMPLETE/pickle/FLEET DATABASE.p')\n",
    "df = df[df.BuildRegion.isin(['Western']) & \n",
    "        df.OperatorCategory.isin(['Civil']) & \n",
    "        df.AircraftStatus.isin(['In Service','Storage']) & \n",
    "        df.AircraftType.isin(['AW139']) & \n",
    "        ~df['Mission'].isin(['Military'])\n",
    "        ]"
   ]
  },
  {
   "cell_type": "code",
   "execution_count": 8,
   "metadata": {
    "ExecuteTime": {
     "end_time": "2017-12-24T12:24:38.934265Z",
     "start_time": "2017-12-24T12:24:38.880591Z"
    }
   },
   "outputs": [
    {
     "data": {
      "application/vnd.jupyter.widget-view+json": {
       "model_id": "a3460a72290842fd8575e6df6025a124",
       "version_major": 2,
       "version_minor": 0
      },
      "text/plain": [
       "A Jupyter Widget"
      ]
     },
     "metadata": {},
     "output_type": "display_data"
    }
   ],
   "source": [
    "# install: `conda install -c tim_shawver/label/dev qgrid==1.0.0b10`\n",
    "import qgrid\n",
    "df = df[['SerialNumber','BuildRegion','OperatorCategory','AircraftStatus','AircraftType','Operator-Update','Mission-MAG','Age']]\n",
    "qgrid.show_grid(df)"
   ]
  },
  {
   "cell_type": "code",
   "execution_count": 14,
   "metadata": {
    "ExecuteTime": {
     "end_time": "2017-12-24T12:11:22.575670Z",
     "start_time": "2017-12-24T12:11:22.570965Z"
    }
   },
   "outputs": [
    {
     "data": {
      "text/html": [
       "<iframe src=\"http://www.columbuslibrary.org/\" width=800 height=400></iframe>"
      ],
      "text/plain": [
       "<IPython.core.display.HTML object>"
      ]
     },
     "execution_count": 14,
     "metadata": {},
     "output_type": "execute_result"
    }
   ],
   "source": [
    "# embed a webpage (could also be a local PDF file, etc.)\n",
    "from IPython.display import HTML\n",
    "HTML('<iframe src=\"http://www.columbuslibrary.org/\" width=800 height=400></iframe>')"
   ]
  },
  {
   "cell_type": "code",
   "execution_count": null,
   "metadata": {
    "collapsed": true
   },
   "outputs": [],
   "source": []
  }
 ],
 "metadata": {
  "kernelspec": {
   "display_name": "Python 3",
   "language": "python",
   "name": "python3"
  },
  "language_info": {
   "codemirror_mode": {
    "name": "ipython",
    "version": 3
   },
   "file_extension": ".py",
   "mimetype": "text/x-python",
   "name": "python",
   "nbconvert_exporter": "python",
   "pygments_lexer": "ipython3",
   "version": "3.6.3"
  },
  "toc": {
   "nav_menu": {},
   "number_sections": true,
   "sideBar": true,
   "skip_h1_title": false,
   "toc_cell": false,
   "toc_position": {},
   "toc_section_display": "block",
   "toc_window_display": false
  }
 },
 "nbformat": 4,
 "nbformat_minor": 2
}
