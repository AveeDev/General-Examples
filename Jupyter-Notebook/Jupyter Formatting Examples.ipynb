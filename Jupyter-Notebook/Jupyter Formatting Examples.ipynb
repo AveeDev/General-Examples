{
 "cells": [
  {
   "cell_type": "markdown",
   "metadata": {},
   "source": [
    "## Boostrap Alerts\n",
    "\n",
    "### Success\n",
    "<div class=\"alert alert-success\">\n",
    "  <strong>Success: </strong> Use the following code to indicate a successful or positive action.\n",
    "</div>"
   ]
  },
  {
   "cell_type": "code",
   "execution_count": null,
   "metadata": {
    "collapsed": true
   },
   "outputs": [],
   "source": [
    "<div class=\"alert alert-success\">\n",
    "  <strong>Success: </strong> Use the following code to indicate a successful or positive action.\n",
    "</div>"
   ]
  },
  {
   "cell_type": "markdown",
   "metadata": {},
   "source": [
    "### Note\n",
    "<div class=\"alert alert-info\">\n",
    "  <strong>Note:</strong> Use the following code to indicate a neutral informative change or action.\n",
    "</div>"
   ]
  },
  {
   "cell_type": "code",
   "execution_count": null,
   "metadata": {
    "collapsed": true
   },
   "outputs": [],
   "source": [
    "<div class=\"alert alert-info\">\n",
    "  <strong>Note:</strong> Use the following code to indicate a neutral informative change or action.\n",
    "</div>"
   ]
  },
  {
   "cell_type": "markdown",
   "metadata": {},
   "source": [
    "### Warning\n",
    "<div class=\"alert alert-warning\">\n",
    "  <strong>Warning:</strong> Use the following code to indicate a warning that might need attention.\n",
    "</div>"
   ]
  },
  {
   "cell_type": "code",
   "execution_count": null,
   "metadata": {
    "collapsed": true
   },
   "outputs": [],
   "source": [
    "<div class=\"alert alert-warning\">\n",
    "  <strong>Warning:</strong> Use the following code to indicate a warning that might need attention.\n",
    "</div>"
   ]
  },
  {
   "cell_type": "markdown",
   "metadata": {},
   "source": [
    "### Danger \n",
    "<div class=\"alert alert-danger\">\n",
    "  <strong>Danger:</strong> Use the following code to indicate a dangerous or potentially negative action.\n",
    "</div>"
   ]
  },
  {
   "cell_type": "code",
   "execution_count": null,
   "metadata": {
    "collapsed": true
   },
   "outputs": [],
   "source": [
    "<div class=\"alert alert-danger\">\n",
    "  <strong>Danger:</strong> Use the following code to indicate a dangerous or potentially negative action.\n",
    "</div>"
   ]
  },
  {
   "cell_type": "markdown",
   "metadata": {},
   "source": [
    "### Font Awesome Icons\n",
    "See [Font Awesome Examples](http://fontawesome.io/examples/)\n",
    "\n",
    "See all [Font Awesome Icons](http://fontawesome.io/icons/)\n",
    "\n",
    "* standard icon: <i class=\"fa fa-paper-plane\"></i>\n",
    "\n",
    "* `fa-lg` retro camera: <i class=\"fa fa-camera-retro fa-lg\"></i>\n",
    "\n",
    "* refresh: <i class=\"fa fa-refresh fa-spin fa-3x fa-fw\"></i>\n",
    "<span class=\"sr-only\">Loading...</span>"
   ]
  },
  {
   "cell_type": "code",
   "execution_count": null,
   "metadata": {
    "collapsed": true
   },
   "outputs": [],
   "source": []
  }
 ],
 "metadata": {
  "anaconda-cloud": {},
  "kernelspec": {
   "display_name": "Python [Root]",
   "language": "python",
   "name": "Python [Root]"
  },
  "language_info": {
   "codemirror_mode": {
    "name": "ipython",
    "version": 3
   },
   "file_extension": ".py",
   "mimetype": "text/x-python",
   "name": "python",
   "nbconvert_exporter": "python",
   "pygments_lexer": "ipython3",
   "version": "3.5.2"
  }
 },
 "nbformat": 4,
 "nbformat_minor": 0
}
